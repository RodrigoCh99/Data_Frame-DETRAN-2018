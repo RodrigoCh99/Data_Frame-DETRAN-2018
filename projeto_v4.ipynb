{
 "cells": [
  {
   "cell_type": "markdown",
   "metadata": {},
   "source": [
    "# Análise de Dados das Infrações de Transito no Distrito federal"
   ]
  },
  {
   "cell_type": "markdown",
   "metadata": {},
   "source": [
    "### -  *Esta análise usa como bases dados abertos do ultimo semestre de 2018*\n",
    "### - *Disponibilizadas no site -> http://www.dados.df.gov.br/dataset/infracoes-transito*"
   ]
  },
  {
   "cell_type": "code",
   "execution_count": 1,
   "metadata": {},
   "outputs": [],
   "source": [
    "# importando as bibliotecas para analise de dados:\n",
    "\n",
    "import numpy as np               # para computação matemática\n",
    "import pandas as pd              # para manipulação de dados\n",
    "import matplotlib.pyplot as plt  # para plotagens gráficas\n",
    "\n",
    "# inicializando matplotlib no notebook \n",
    "%matplotlib inline "
   ]
  },
  {
   "cell_type": "markdown",
   "metadata": {},
   "source": [
    "### *Os dados importados a partir deste momento foram previamente alterados para ficar dentro do padrão unicode seguindo as recomendações do site da câmara dos deputados.*\n",
    "### *Link para o tutorial -> https://dadosabertos.camara.leg.br/howtouse/2017-03-02-csv-corrigindo-acentuacao.html*"
   ]
  },
  {
   "cell_type": "code",
   "execution_count": 2,
   "metadata": {},
   "outputs": [],
   "source": [
    "# importação dos Datasets:\n",
    "\n",
    "df_julho = pd.read_csv('julho_2018.csv', sep=';', encoding='UTF-8', usecols=[0, 2, 3, 4, 5])\n",
    "df_agosto = pd.read_csv('agosto_2018.csv', sep=';', encoding='UTF-8', usecols=[0, 2, 3, 4, 5])\n",
    "df_outubro = pd.read_csv('outubro_2018.csv', sep=';', encoding='UTF-8', usecols=[0, 2, 3, 4, 5])\n",
    "df_novembro = pd.read_csv('novembro_2018.csv', sep=';', encoding='UTF-8', usecols=[0, 2, 3, 4, 5])\n",
    "df_dezembro = pd.read_csv('dezembro_2018.csv', sep=';', encoding='UTF-8', usecols=[0, 2, 3, 4, 5])"
   ]
  },
  {
   "cell_type": "markdown",
   "metadata": {},
   "source": [
    "### *O DataSet referente ao mês de setembro disponibilizado pelo site de dados abertos do DF possui um erro no qual sua coluna referente as datas indicava o mês 08 e não 09, para correção deste probelma esse dataset foi previamente alterado mais uma vez no excel utilizando a função substituir.¶*"
   ]
  },
  {
   "cell_type": "code",
   "execution_count": 3,
   "metadata": {},
   "outputs": [],
   "source": [
    "df_setembro = pd.read_csv('setembro_2018_corrigido.csv', sep=';', encoding='UTF-8', usecols=[0, 2, 3, 4, 5])"
   ]
  },
  {
   "cell_type": "code",
   "execution_count": 4,
   "metadata": {},
   "outputs": [],
   "source": [
    "# padronizando o nome das colunas dos datasets para um futuro merge entre todos os arquivos:\n",
    "\n",
    "df_julho.columns = ['codigo_infracao', 'tipo_infrator', 'tipo_veiculo', 'data_cometimento', 'hora_cometimento']\n",
    "df_agosto.columns = ['codigo_infracao', 'tipo_infrator', 'tipo_veiculo', 'data_cometimento', 'hora_cometimento']\n",
    "df_setembro.columns = ['codigo_infracao', 'tipo_infrator', 'tipo_veiculo', 'data_cometimento', 'hora_cometimento']\n",
    "df_outubro.columns = ['codigo_infracao', 'tipo_infrator', 'tipo_veiculo', 'data_cometimento', 'hora_cometimento']\n",
    "df_novembro.columns = ['codigo_infracao', 'tipo_infrator', 'tipo_veiculo', 'data_cometimento', 'hora_cometimento']\n",
    "df_dezembro.columns = ['codigo_infracao', 'tipo_infrator', 'tipo_veiculo', 'data_cometimento', 'hora_cometimento']"
   ]
  },
  {
   "cell_type": "code",
   "execution_count": 5,
   "metadata": {},
   "outputs": [],
   "source": [
    "# merge para criação do DataSet semestral:\n",
    "\n",
    "df_semestral = pd.merge(df_julho, df_agosto, on=['codigo_infracao', 'tipo_infrator', 'tipo_veiculo', 'data_cometimento', 'hora_cometimento'], how='outer')\n",
    "df_semestral = pd.merge(df_semestral, df_setembro, on=['codigo_infracao', 'tipo_infrator', 'tipo_veiculo', 'data_cometimento', 'hora_cometimento'], how='outer')\n",
    "df_semestral = pd.merge(df_semestral, df_outubro, on=['codigo_infracao', 'tipo_infrator', 'tipo_veiculo', 'data_cometimento', 'hora_cometimento'], how='outer')\n",
    "df_semestral = pd.merge(df_semestral, df_novembro, on=['codigo_infracao', 'tipo_infrator', 'tipo_veiculo', 'data_cometimento', 'hora_cometimento'], how='outer')\n",
    "df_semestral = pd.merge(df_semestral, df_dezembro, on=['codigo_infracao', 'tipo_infrator', 'tipo_veiculo', 'data_cometimento', 'hora_cometimento'], how='outer')"
   ]
  },
  {
   "cell_type": "code",
   "execution_count": 6,
   "metadata": {},
   "outputs": [
    {
     "data": {
      "text/html": [
       "<div>\n",
       "<style scoped>\n",
       "    .dataframe tbody tr th:only-of-type {\n",
       "        vertical-align: middle;\n",
       "    }\n",
       "\n",
       "    .dataframe tbody tr th {\n",
       "        vertical-align: top;\n",
       "    }\n",
       "\n",
       "    .dataframe thead th {\n",
       "        text-align: right;\n",
       "    }\n",
       "</style>\n",
       "<table border=\"1\" class=\"dataframe\">\n",
       "  <thead>\n",
       "    <tr style=\"text-align: right;\">\n",
       "      <th></th>\n",
       "      <th>codigo_infracao</th>\n",
       "      <th>tipo_infrator</th>\n",
       "      <th>tipo_veiculo</th>\n",
       "      <th>data_cometimento</th>\n",
       "      <th>hora_cometimento</th>\n",
       "    </tr>\n",
       "  </thead>\n",
       "  <tbody>\n",
       "    <tr>\n",
       "      <th>0</th>\n",
       "      <td>7455-0</td>\n",
       "      <td>Condutor</td>\n",
       "      <td>AUTOMOVEL</td>\n",
       "      <td>01/07/2018</td>\n",
       "      <td>00:01</td>\n",
       "    </tr>\n",
       "    <tr>\n",
       "      <th>1</th>\n",
       "      <td>7455-0</td>\n",
       "      <td>Condutor</td>\n",
       "      <td>AUTOMOVEL</td>\n",
       "      <td>01/07/2018</td>\n",
       "      <td>00:02</td>\n",
       "    </tr>\n",
       "    <tr>\n",
       "      <th>2</th>\n",
       "      <td>6769-0</td>\n",
       "      <td>Proprietário</td>\n",
       "      <td>Automóvel</td>\n",
       "      <td>01/07/2018</td>\n",
       "      <td>00:02</td>\n",
       "    </tr>\n",
       "    <tr>\n",
       "      <th>3</th>\n",
       "      <td>7285-0</td>\n",
       "      <td>Condutor</td>\n",
       "      <td>Automóvel</td>\n",
       "      <td>01/07/2018</td>\n",
       "      <td>00:02</td>\n",
       "    </tr>\n",
       "    <tr>\n",
       "      <th>4</th>\n",
       "      <td>7579-0</td>\n",
       "      <td>Condutor</td>\n",
       "      <td>Automóvel</td>\n",
       "      <td>01/07/2018</td>\n",
       "      <td>00:03</td>\n",
       "    </tr>\n",
       "  </tbody>\n",
       "</table>\n",
       "</div>"
      ],
      "text/plain": [
       "  codigo_infracao   tipo_infrator tipo_veiculo data_cometimento  \\\n",
       "0          7455-0       Condutor    AUTOMOVEL       01/07/2018    \n",
       "1          7455-0       Condutor    AUTOMOVEL       01/07/2018    \n",
       "2          6769-0   Proprietário    Automóvel       01/07/2018    \n",
       "3          7285-0       Condutor    Automóvel       01/07/2018    \n",
       "4          7579-0       Condutor    Automóvel       01/07/2018    \n",
       "\n",
       "  hora_cometimento  \n",
       "0         00:01     \n",
       "1         00:02     \n",
       "2          00:02    \n",
       "3          00:02    \n",
       "4            00:03  "
      ]
     },
     "execution_count": 6,
     "metadata": {},
     "output_type": "execute_result"
    }
   ],
   "source": [
    "# Visualização do DataSet semestral\n",
    "df_semestral.head()"
   ]
  },
  {
   "cell_type": "markdown",
   "metadata": {},
   "source": [
    "# **Tratamento de Dados:**"
   ]
  },
  {
   "cell_type": "code",
   "execution_count": 7,
   "metadata": {},
   "outputs": [
    {
     "data": {
      "text/plain": [
       "(395758, 5)"
      ]
     },
     "execution_count": 7,
     "metadata": {},
     "output_type": "execute_result"
    }
   ],
   "source": [
    "# quantidade de linhas / colunas do dataset:\n",
    "df_semestral.shape"
   ]
  },
  {
   "cell_type": "markdown",
   "metadata": {},
   "source": [
    "#### *395758 linhas - infrações*\n",
    "#### *5 colunas - atributos de cada infração*"
   ]
  },
  {
   "cell_type": "markdown",
   "metadata": {},
   "source": [
    "## *Coluna ['codigo_infracao']*"
   ]
  },
  {
   "cell_type": "code",
   "execution_count": 8,
   "metadata": {},
   "outputs": [
    {
     "data": {
      "text/plain": [
       "array(['7455-0', '6769-0', '7285-0', '7579-0', '7463-0', '6599-2',\n",
       "       '7234-0', '5045-0', '7471-0', '6637-2', '5169-1', '6726-1',\n",
       "       '5010-0', '6807-0', '6610-2', '5835-0', '5118-0', '6912-0',\n",
       "       '5185-2', '5908-0', '6530-0', '5720-0', '5410-0', '5738-0',\n",
       "       '5843-4', '5185-1', '7633-2', '5843-3', '5207-0', '7633-1',\n",
       "       '5193-0', '5711-0', '5800-0', '5967-0', '7340-0', '6637-1',\n",
       "       '6408-0', '7366-1', '5991-0', '7366-2', '5061-0', '7315-0',\n",
       "       '6670-0', '6700-0', '6653-1', '6270-0', '5037-1', '5878-0',\n",
       "       '6823-1', '5231-1', '7358-0', '6378-0', '5029-2', '5444-0',\n",
       "       '6645-0', '5428-2', '5452-6', '5819-6', '6602-0', '6173-2',\n",
       "       '6858-0', '5053-1', '6866-1', '5851-2', '7625-1', '5568-0',\n",
       "       '5746-3', '5509-0', '6050-1', '5690-0', '7625-2', '6980-0',\n",
       "       '5274-1', '5860-0', '5827-0', '5819-7', '5851-1', '5819-4',\n",
       "       '5770-3', '6122-0', '5819-5', '5681-0', '5819-3', '5460-0',\n",
       "       '6068-1', '5975-0', '5797-0', '7587-0', '5550-0', '5231-2',\n",
       "       '5274-2', '6041-2', '5770-4', '5452-7', '6785-2', '5819-2',\n",
       "       '6394-4', '5622-2', '5614-2', '6050-2', '6653-2', '6017-3',\n",
       "       '6025-0', '5215-2', '6599-1', '6718-0', '6033-0', '6041-1',\n",
       "       '5142-0', '6548-0', '5452-5', '6610-1', '5819-1', '7099-1',\n",
       "       '6483-0', '6181-0', '5479-0', '7242-1', '7480-1', '5452-2',\n",
       "       '6785-1', '5843-1', '6432-2', '6076-0', '6173-1', '7510-2',\n",
       "       '5428-3', '5703-0', '5746-1', '7552-2', '6190-0', '6920-1',\n",
       "       '6688-0', '7323-2', '5371-0', '5177-0', '6564-0', '6955-0',\n",
       "       '5134-1', '6556-1', '7064-0', '5320-0', '6580-0', '5452-3',\n",
       "       '5169-2', '5088-1', '5487-0', '6130-0', '5428-1', '7528-1',\n",
       "       '6440-0', '6963-0', '5029-1', '5665-0', '6149-0', '6050-3',\n",
       "       '6017-2', '6432-1', '6971-0', '5452-1', '6750-0', '5126-1',\n",
       "       '5940-1', '5622-5', '7242-2', '6467-0', '5746-2', '6866-2',\n",
       "       ' 5843-4        ', ' 7463-0        ', ' 5185-1        ',\n",
       "       ' 7455-0        ', ' 6769-0        ', ' 7234-0        ',\n",
       "       ' 5991-0        ', ' 7471-0        ', ' 5720-0        ',\n",
       "       ' 5908-0        ', ' 5967-0        ', ' 5800-0        ',\n",
       "       ' 6270-0        ', ' 6670-0        ', ' 5231-1        ',\n",
       "       ' 5878-0        ', ' 6408-0        ', ' 5185-2        ',\n",
       "       ' 5207-0        ', ' 6637-2        ', ' 5045-0        ',\n",
       "       ' 6599-2        ', ' 6602-0        ', ' 7587-0        ',\n",
       "       ' 6645-0        ', ' 7633-1        ', ' 7633-2        ',\n",
       "       ' 6610-2        ', ' 7366-2        ', ' 7315-0        ',\n",
       "       ' 5711-0        ', ' 6785-1        ', ' 6653-1        ',\n",
       "       ' 7366-1        ', ' 6068-1        ', ' 6122-0        ',\n",
       "       ' 6858-0        ', ' 5509-0        ', ' 5835-0        ',\n",
       "       ' 5770-4        ', ' 5770-3        ', ' 7064-0        ',\n",
       "       ' 7340-0        ', ' 6041-1        ', ' 5010-0        ',\n",
       "       ' 6653-2        ', ' 6130-0        ', ' 5690-0        ',\n",
       "       ' 5797-0        ', ' 6912-0        ', ' 5134-1        ',\n",
       "       ' 6980-0        ', ' 5037-1        ', ' 7323-2        ',\n",
       "       ' 5851-1        ', ' 6866-1        ', ' 5819-6        ',\n",
       "       ' 5746-3        ', ' 5924-1        ', ' 7285-0        ',\n",
       "       ' 5975-0        ', ' 5568-0        ', ' 5746-1        ',\n",
       "       ' 7099-1        ', ' 5681-0        ', ' 6530-0        ',\n",
       "       ' 5169-1        ', ' 7579-0        ', ' 5851-2        ',\n",
       "       ' 6726-1        ', ' 5410-0        ', ' 5193-0        ',\n",
       "       ' 6700-0        ', ' 6637-1        ', ' 6920-1        ',\n",
       "       ' 7358-0        ', ' 6050-1        ', ' 5452-7        ',\n",
       "       ' 5843-3        ', ' 5479-0        ', ' 5452-2        ',\n",
       "       ' 5487-0        ', ' 5819-7        ', ' 6041-2        ',\n",
       "       ' 5274-2        ', ' 6610-1        ', ' 5827-0        ',\n",
       "       ' 6076-0        ', ' 5738-0        ', ' 5274-1        ',\n",
       "       ' 5959-4        ', ' 6025-0        ', ' 5819-3        ',\n",
       "       ' 6750-0        ', ' 5819-4        ', ' 5428-2        ',\n",
       "       ' 5614-2        ', ' 6483-0        ', ' 5860-0        ',\n",
       "       ' 6033-0        ', ' 6050-2        ', ' 5843-1        ',\n",
       "       ' 6173-3        ', ' 5061-0        ', ' 5118-0        ',\n",
       "       ' 5029-2        ', ' 5169-2        ', ' 5770-1        ',\n",
       "       ' 5452-6        ', ' 7625-2        ', ' 5460-0        ',\n",
       "       ' 5819-1        ', ' 7293-0        ', ' 5894-0        ',\n",
       "       ' 5819-2        ', ' 5819-5        ', ' 6440-0        ',\n",
       "       ' 6378-0        ', ' 5096-0        ', ' 6599-1        ',\n",
       "       ' 5452-1        ', ' 5770-2        ', ' 5703-0        ',\n",
       "       ' 6084-1        ', ' 5550-0        ', ' 5940-1        ',\n",
       "       ' 5622-2        ', ' 6556-1        ', ' 5444-0        ',\n",
       "       ' 6491-0        ', ' 5843-2        ', ' 5215-2        ',\n",
       "       ' 7277-0        ', ' 6580-0        ', ' 5142-0        ',\n",
       "       ' 5290-0        ', ' 6017-4        ', ' 6793-0        ',\n",
       "       ' 7528-1        ', ' 6157-0        ', ' 6432-2        ',\n",
       "       ' 6955-0        ', ' 6050-3        ', ' 6564-0        ',\n",
       "       ' 5371-0        ', ' 6181-0        ', ' 7625-1        ',\n",
       "       ' 7323-3        ', ' 6327-0        ', ' 5622-5        ',\n",
       "       ' 5622-3        ', ' 7226-1        ', ' 5231-2        ',\n",
       "       ' 6688-0        ', ' 5029-1        ', ' 5525-0        ',\n",
       "       ' 7048-1        ', ' 5452-4        ', ' 5258-3        ',\n",
       "       ' 5452-3        ', ' 5428-1        ', ' 5428-3        ',\n",
       "       ' 6017-3        ', ' 7056-1        ', ' 7218-0        ',\n",
       "       ' 5541-1        ', ' 5037-2        ', ' 5053-1        ',\n",
       "       ' 5886-0        ', ' 6807-0        ', ' 6173-1        ',\n",
       "       ' 6963-0        ', ' 7498-0        ', ' 5452-5        ',\n",
       "       ' 6017-1        ', ' 5126-2        ', ' 6173-2        ',\n",
       "       ' 5215-1        ', ' 6459-1        ', ' 5762-0        ',\n",
       "       ' 6947-1        ', '5541-2', '7277-0', '6017-4', '6459-2',\n",
       "       '5215-1', '6947-1', '5282-0', '6793-0', '6491-0', '6009-2',\n",
       "       '6084-3', '7331-0', '5886-0', '5428-4', '5770-2', '5525-0',\n",
       "       '6084-4', '5223-1', '5037-2', '5614-1', '5541-1', '7048-1',\n",
       "       '5355-0', '5770-1', '5762-0', '5312-0', '5843-2', '7226-1',\n",
       "       '5622-1', '5290-0', '5339-0', '6084-1', '5606-0', '7056-1',\n",
       "       '6068-2', '5622-4', '5223-2', '6742-0', '6661-0', '5347-0',\n",
       "       '7293-0', '5053-4', '7099-2', '5614-3', '5630-0', '6556-4',\n",
       "       '6556-2', '6696-1', '6394-3', '6017-5', '5134-2'], dtype=object)"
      ]
     },
     "execution_count": 8,
     "metadata": {},
     "output_type": "execute_result"
    }
   ],
   "source": [
    "# procurando valores despadronizados na coluna 'codigo_infracao':\n",
    "df_semestral['codigo_infracao'].unique()"
   ]
  },
  {
   "cell_type": "code",
   "execution_count": 9,
   "metadata": {},
   "outputs": [],
   "source": [
    "# função pra ajuste da coluna 'codigo_infracao'\n",
    "\n",
    "def corrigir_codigo(valor):\n",
    "    valor = valor.strip()\n",
    "    return valor\n",
    "\n",
    "# aplicando a função:\n",
    "df_semestral['codigo_infracao'] = df_semestral['codigo_infracao'].apply(corrigir_codigo)"
   ]
  },
  {
   "cell_type": "code",
   "execution_count": 10,
   "metadata": {},
   "outputs": [
    {
     "data": {
      "text/plain": [
       "array(['7455-0', '6769-0', '7285-0', '7579-0', '7463-0', '6599-2',\n",
       "       '7234-0', '5045-0', '7471-0', '6637-2', '5169-1', '6726-1',\n",
       "       '5010-0', '6807-0', '6610-2', '5835-0', '5118-0', '6912-0',\n",
       "       '5185-2', '5908-0', '6530-0', '5720-0', '5410-0', '5738-0',\n",
       "       '5843-4', '5185-1', '7633-2', '5843-3', '5207-0', '7633-1',\n",
       "       '5193-0', '5711-0', '5800-0', '5967-0', '7340-0', '6637-1',\n",
       "       '6408-0', '7366-1', '5991-0', '7366-2', '5061-0', '7315-0',\n",
       "       '6670-0', '6700-0', '6653-1', '6270-0', '5037-1', '5878-0',\n",
       "       '6823-1', '5231-1', '7358-0', '6378-0', '5029-2', '5444-0',\n",
       "       '6645-0', '5428-2', '5452-6', '5819-6', '6602-0', '6173-2',\n",
       "       '6858-0', '5053-1', '6866-1', '5851-2', '7625-1', '5568-0',\n",
       "       '5746-3', '5509-0', '6050-1', '5690-0', '7625-2', '6980-0',\n",
       "       '5274-1', '5860-0', '5827-0', '5819-7', '5851-1', '5819-4',\n",
       "       '5770-3', '6122-0', '5819-5', '5681-0', '5819-3', '5460-0',\n",
       "       '6068-1', '5975-0', '5797-0', '7587-0', '5550-0', '5231-2',\n",
       "       '5274-2', '6041-2', '5770-4', '5452-7', '6785-2', '5819-2',\n",
       "       '6394-4', '5622-2', '5614-2', '6050-2', '6653-2', '6017-3',\n",
       "       '6025-0', '5215-2', '6599-1', '6718-0', '6033-0', '6041-1',\n",
       "       '5142-0', '6548-0', '5452-5', '6610-1', '5819-1', '7099-1',\n",
       "       '6483-0', '6181-0', '5479-0', '7242-1', '7480-1', '5452-2',\n",
       "       '6785-1', '5843-1', '6432-2', '6076-0', '6173-1', '7510-2',\n",
       "       '5428-3', '5703-0', '5746-1', '7552-2', '6190-0', '6920-1',\n",
       "       '6688-0', '7323-2', '5371-0', '5177-0', '6564-0', '6955-0',\n",
       "       '5134-1', '6556-1', '7064-0', '5320-0', '6580-0', '5452-3',\n",
       "       '5169-2', '5088-1', '5487-0', '6130-0', '5428-1', '7528-1',\n",
       "       '6440-0', '6963-0', '5029-1', '5665-0', '6149-0', '6050-3',\n",
       "       '6017-2', '6432-1', '6971-0', '5452-1', '6750-0', '5126-1',\n",
       "       '5940-1', '5622-5', '7242-2', '6467-0', '5746-2', '6866-2',\n",
       "       '5924-1', '5959-4', '6173-3', '5770-1', '7293-0', '5894-0',\n",
       "       '5096-0', '5770-2', '6084-1', '6491-0', '5843-2', '7277-0',\n",
       "       '5290-0', '6017-4', '6793-0', '6157-0', '7323-3', '6327-0',\n",
       "       '5622-3', '7226-1', '5525-0', '7048-1', '5452-4', '5258-3',\n",
       "       '7056-1', '7218-0', '5541-1', '5037-2', '5886-0', '7498-0',\n",
       "       '6017-1', '5126-2', '5215-1', '6459-1', '5762-0', '6947-1',\n",
       "       '5541-2', '6459-2', '5282-0', '6009-2', '6084-3', '7331-0',\n",
       "       '5428-4', '6084-4', '5223-1', '5614-1', '5355-0', '5312-0',\n",
       "       '5622-1', '5339-0', '5606-0', '6068-2', '5622-4', '5223-2',\n",
       "       '6742-0', '6661-0', '5347-0', '5053-4', '7099-2', '5614-3',\n",
       "       '5630-0', '6556-4', '6556-2', '6696-1', '6394-3', '6017-5',\n",
       "       '5134-2'], dtype=object)"
      ]
     },
     "execution_count": 10,
     "metadata": {},
     "output_type": "execute_result"
    }
   ],
   "source": [
    "# Verificação:\n",
    "df_semestral['codigo_infracao'].unique()"
   ]
  },
  {
   "cell_type": "markdown",
   "metadata": {},
   "source": [
    "## *Coluna ['tipo_infrator']*"
   ]
  },
  {
   "cell_type": "code",
   "execution_count": 11,
   "metadata": {},
   "outputs": [
    {
     "data": {
      "text/plain": [
       "array([' Condutor ', ' Proprietário ', ' Servidor Público ',\n",
       "       ' Pessoa Jurídica', ' Pessoa Física', ' Condutor         ',\n",
       "       ' Proprietário     ', ' Pessoa Jurídica  ', ' Pessoa Física    ',\n",
       "       ' Condutor        ', ' Proprietário    ', ' Pessoa Jurídica ',\n",
       "       ' Pessoa Física   ', 'Condutor', 'Proprietário'], dtype=object)"
      ]
     },
     "execution_count": 11,
     "metadata": {},
     "output_type": "execute_result"
    }
   ],
   "source": [
    "# procurando valores despadronizados na coluna 'tipo_infrator':\n",
    "\n",
    "df_semestral['tipo_infrator'].unique()"
   ]
  },
  {
   "cell_type": "code",
   "execution_count": 12,
   "metadata": {},
   "outputs": [],
   "source": [
    "# função pra ajuste da coluna 'tipo_infrator'\n",
    "\n",
    "def corrigir_infrator(valor):\n",
    "    valor = valor.strip().lower().replace('á','a').replace('ú','u').replace('í','i').replace(' ','_')\n",
    "    return valor\n",
    "\n",
    "# aplicando a função:\n",
    "df_semestral['tipo_infrator'] = df_semestral['tipo_infrator'].apply(corrigir_infrator)"
   ]
  },
  {
   "cell_type": "code",
   "execution_count": 13,
   "metadata": {},
   "outputs": [
    {
     "data": {
      "text/plain": [
       "array(['condutor', 'proprietario', 'servidor_publico', 'pessoa_juridica',\n",
       "       'pessoa_fisica'], dtype=object)"
      ]
     },
     "execution_count": 13,
     "metadata": {},
     "output_type": "execute_result"
    }
   ],
   "source": [
    "df_semestral['tipo_infrator'].unique()"
   ]
  },
  {
   "cell_type": "markdown",
   "metadata": {},
   "source": [
    "## *Coluna ['tipo_veiculo']*"
   ]
  },
  {
   "cell_type": "code",
   "execution_count": 14,
   "metadata": {},
   "outputs": [
    {
     "data": {
      "text/plain": [
       "array([' AUTOMOVEL ', ' Automóvel ', ' CAMIONETA ', ' null',\n",
       "       ' CAMINHONETE ', ' Camioneta ', ' CAMINHONET', ' MOTOCICLETA ',\n",
       "       ' Motocicleta ', ' Utilitário', ' Caminhão Trator ', ' Motoneta',\n",
       "       ' MOTOCICLET', ' MICROONIBUS ', ' CAMINHAO', ' UTILITARIO',\n",
       "       ' ONIBUS', ' Caminhonete ', ' CAMINHAO TRATOR ', ' MICROONIBU',\n",
       "       ' Microônibus ', ' Caminhão', ' Reboque ', ' MOTONETA', ' Ônibus',\n",
       "       ' REBOQUE ', ' S.REBOQUE ', ' Ciclomotor', ' C. TRATOR ',\n",
       "       ' Chassi Plataforma ', ' Semi-Reboque', ' Bonde ', ' Triciclo',\n",
       "       ' -                      ', ' Camioneta                 ',\n",
       "       ' Automóvel                 ', ' AUTOMOVEL                 ',\n",
       "       ' MOTOCICLET                ', ' UTILITARIO                ',\n",
       "       ' CAMINHONETE               ', ' Caminhonete               ',\n",
       "       ' MOTOCICLETA               ', ' CAMIONETA                 ',\n",
       "       ' CAMINHAO                  ', ' CAMINHONET                ',\n",
       "       ' Motocicleta               ', ' MOTONETA                  ',\n",
       "       ' Caminhão Trator           ', ' Motoneta                  ',\n",
       "       ' Microônibus               ', ' MICROONIBUS               ',\n",
       "       ' Caminhão                  ', ' ONIBUS                    ',\n",
       "       ' Ciclomotor                ', ' CAMINHAO TRATOR           ',\n",
       "       ' Utilitário                ', ' Ônibus                    ',\n",
       "       ' Reboque                   ', ' S.REBOQUE                 ',\n",
       "       ' MICROONIBU                ', ' REBOQUE                   ',\n",
       "       ' Triciclo                  ', ' Semi-Reboque              ',\n",
       "       ' CICLOMOTOR                ', ' MOTOR-CASA                ',\n",
       "       ' C. TRATOR                 ', ' SEMI-REBOQUE              ',\n",
       "       ' Chassi Plataforma         ', ' Tr Rodas                  ',\n",
       "       ' TRICICLO                  ', ' MOTOR CASA                ',\n",
       "       ' null                      ', 'AUTOMOVEL                ',\n",
       "       'Automóvel', 'CAMINHONETE              ', 'Motocicleta',\n",
       "       'CAMIONETA                ', 'CAMINHONET               ',\n",
       "       'MOTOCICLETA              ', 'MOTOCICLET               ',\n",
       "       'UTILITARIO               ', 'ONIBUS                   ',\n",
       "       'CAMINHAO TRATOR          ', 'CAMINHAO                 ',\n",
       "       'S.REBOQUE                ', 'MICROONIBU               ',\n",
       "       'Caminhonete', 'MOTONETA                 ', 'Motoneta', 'Caminhão',\n",
       "       nan, 'Caminhão Trator', 'Camioneta', 'Ônibus', 'Utilitário',\n",
       "       'Microônibus', 'AUTOMOVEL', 'C. TRATOR                ', 'Reboque',\n",
       "       'REBOQUE                  ', 'MICROONIBUS              ',\n",
       "       'UTILITARIO', 'CAMINHAO TRATOR', 'TRICICLO                 ',\n",
       "       'INEXISTENTE', 'CICLOMOTOR               ', 'CAMINHONETE',\n",
       "       'MOTOR-CASA               ', 'Semi-Reboque', 'Triciclo',\n",
       "       'MOTOCICLETA', 'CAMINHAO', 'CAMIONETA', 'Chassi Plataforma',\n",
       "       'Bonde', 'SEMI-REBOQUE', 'Tr Esteiras', 'Bicicleta', 'Ciclomotor',\n",
       "       'MOTONETA', 'Tr Misto', 'MOTOR CASA               ', 'MICROONIBUS',\n",
       "       'SEMI-REBOQUE             ', 'ONIBUS', 'Charrete'], dtype=object)"
      ]
     },
     "execution_count": 14,
     "metadata": {},
     "output_type": "execute_result"
    }
   ],
   "source": [
    "# procurando valores despadronizados na coluna 'tipo_veiculo':\n",
    "\n",
    "df_semestral['tipo_veiculo'].unique()"
   ]
  },
  {
   "cell_type": "code",
   "execution_count": 15,
   "metadata": {},
   "outputs": [],
   "source": [
    "# função pra ajuste da coluna 'tipo_veiculo', romação de acentuação e eliminação dos valores em maiusculo\n",
    "\n",
    "def corrigir_veiculo(valor):\n",
    "    valor = valor.strip().lower().replace('á','a').replace('ú','u').replace('í','i').replace('ó','o').replace('ô','o')\n",
    "    valor = valor.replace('ã','a')\n",
    "    return valor\n",
    "\n",
    "# Transformando a coluna em string:\n",
    "df_semestral['tipo_veiculo'] = df_semestral.tipo_veiculo.astype('str')\n",
    "\n",
    "# aplicando a função:\n",
    "df_semestral['tipo_veiculo'] = df_semestral['tipo_veiculo'].apply(corrigir_veiculo)"
   ]
  },
  {
   "cell_type": "code",
   "execution_count": 16,
   "metadata": {},
   "outputs": [
    {
     "data": {
      "text/plain": [
       "array(['automovel', 'camioneta', 'null', 'caminhonete', 'caminhonet',\n",
       "       'motocicleta', 'utilitario', 'caminhao trator', 'motoneta',\n",
       "       'motociclet', 'microonibus', 'caminhao', 'onibus', 'microonibu',\n",
       "       'reboque', 's.reboque', 'ciclomotor', 'c. trator',\n",
       "       'chassi plataforma', 'semi-reboque', 'bonde', 'triciclo', '-',\n",
       "       'motor-casa', 'tr rodas', 'motor casa', 'nan', 'inexistente',\n",
       "       'tr esteiras', 'bicicleta', 'tr misto', 'charrete'], dtype=object)"
      ]
     },
     "execution_count": 16,
     "metadata": {},
     "output_type": "execute_result"
    }
   ],
   "source": [
    "# verificação:\n",
    "\n",
    "df_semestral['tipo_veiculo'].unique()"
   ]
  },
  {
   "cell_type": "code",
   "execution_count": 17,
   "metadata": {},
   "outputs": [],
   "source": [
    "# função para alterar as palavras digitadas incorretamente na coluna 'tipo_veiculo' e alguns outros problemas:\n",
    "\n",
    "def nome_veiculo(valor):\n",
    "    valor = valor.replace('caminhonete','caminhonet').replace('caminhonet','caminhonete')\n",
    "    valor = valor.replace('motocicleta','motociclet').replace('motociclet','motocicleta')\n",
    "    valor = valor.replace('microonibus','microonibu').replace('microonibu','microonibus')\n",
    "    valor = valor.replace('camioneta','Caminhoneta').replace('Caminhoneta','caminhoneta')\n",
    "    valor = valor.replace('motor-casa','motor casa').replace('semi-reboque','semi reboque')\n",
    "    valor = valor.replace('.',' ').replace('-','nan').replace(' ','_')\n",
    "    valor = valor.replace('inexistente','nan').replace('null','nan')\n",
    "    valor = valor.replace('nan','NaN')\n",
    "    return valor\n",
    "\n",
    "# aplicando a nova função:\n",
    "df_semestral['tipo_veiculo'] = df_semestral['tipo_veiculo'].apply(nome_veiculo)"
   ]
  },
  {
   "cell_type": "code",
   "execution_count": 18,
   "metadata": {},
   "outputs": [
    {
     "data": {
      "text/plain": [
       "array(['automovel', 'caminhoneta', 'NaN', 'caminhonete', 'motocicleta',\n",
       "       'utilitario', 'caminhao_trator', 'motoneta', 'microonibus',\n",
       "       'caminhao', 'onibus', 'reboque', 's_reboque', 'ciclomotor',\n",
       "       'c__trator', 'chassi_plataforma', 'semi_reboque', 'bonde',\n",
       "       'triciclo', 'motor_casa', 'tr_rodas', 'tr_esteiras', 'bicicleta',\n",
       "       'tr_misto', 'charrete'], dtype=object)"
      ]
     },
     "execution_count": 18,
     "metadata": {},
     "output_type": "execute_result"
    }
   ],
   "source": [
    "# verificação:\n",
    "\n",
    "df_semestral['tipo_veiculo'].unique()"
   ]
  },
  {
   "cell_type": "code",
   "execution_count": 19,
   "metadata": {},
   "outputs": [
    {
     "data": {
      "text/plain": [
       "automovel            279440\n",
       "caminhonete           30934\n",
       "caminhoneta           22876\n",
       "motocicleta           22177\n",
       "utilitario            13125\n",
       "caminhao               8470\n",
       "NaN                    5864\n",
       "caminhao_trator        4725\n",
       "microonibus            2308\n",
       "s_reboque              1985\n",
       "onibus                 1755\n",
       "motoneta               1469\n",
       "reboque                 438\n",
       "semi_reboque             71\n",
       "c__trator                46\n",
       "ciclomotor               33\n",
       "triciclo                 20\n",
       "motor_casa               10\n",
       "chassi_plataforma         4\n",
       "bonde                     2\n",
       "tr_rodas                  2\n",
       "bicicleta                 1\n",
       "tr_esteiras               1\n",
       "tr_misto                  1\n",
       "charrete                  1\n",
       "Name: tipo_veiculo, dtype: int64"
      ]
     },
     "execution_count": 19,
     "metadata": {},
     "output_type": "execute_result"
    }
   ],
   "source": [
    "# fazendo a contagem de valores nulos:\n",
    "df_semestral['tipo_veiculo'].value_counts()"
   ]
  },
  {
   "cell_type": "code",
   "execution_count": 20,
   "metadata": {},
   "outputs": [],
   "source": [
    "# variavel guardando os valores NaN com seus index\n",
    "numeros = df_semestral[df_semestral['tipo_veiculo'] == 'NaN']"
   ]
  },
  {
   "cell_type": "code",
   "execution_count": 21,
   "metadata": {},
   "outputs": [],
   "source": [
    "# Variavel guardando apenas os index de valores NaN\n",
    "valores = numeros.index"
   ]
  },
  {
   "cell_type": "code",
   "execution_count": 22,
   "metadata": {},
   "outputs": [],
   "source": [
    "# dropando valores com base nos index guardados\n",
    "df_semestral.drop(valores, inplace=True)"
   ]
  },
  {
   "cell_type": "code",
   "execution_count": 23,
   "metadata": {},
   "outputs": [
    {
     "data": {
      "text/plain": [
       "(389894, 5)"
      ]
     },
     "execution_count": 23,
     "metadata": {},
     "output_type": "execute_result"
    }
   ],
   "source": [
    "# comprimento do novo df_semestral\n",
    "df_semestral.shape"
   ]
  },
  {
   "cell_type": "code",
   "execution_count": 24,
   "metadata": {},
   "outputs": [
    {
     "data": {
      "text/plain": [
       "automovel            279440\n",
       "caminhonete           30934\n",
       "caminhoneta           22876\n",
       "motocicleta           22177\n",
       "utilitario            13125\n",
       "caminhao               8470\n",
       "caminhao_trator        4725\n",
       "microonibus            2308\n",
       "s_reboque              1985\n",
       "onibus                 1755\n",
       "motoneta               1469\n",
       "reboque                 438\n",
       "semi_reboque             71\n",
       "c__trator                46\n",
       "ciclomotor               33\n",
       "triciclo                 20\n",
       "motor_casa               10\n",
       "chassi_plataforma         4\n",
       "bonde                     2\n",
       "tr_rodas                  2\n",
       "bicicleta                 1\n",
       "tr_esteiras               1\n",
       "tr_misto                  1\n",
       "charrete                  1\n",
       "Name: tipo_veiculo, dtype: int64"
      ]
     },
     "execution_count": 24,
     "metadata": {},
     "output_type": "execute_result"
    }
   ],
   "source": [
    "# verificação\n",
    "df_semestral['tipo_veiculo'].value_counts()"
   ]
  },
  {
   "cell_type": "markdown",
   "metadata": {},
   "source": [
    "## *Coluna ['data_cometimento']*"
   ]
  },
  {
   "cell_type": "code",
   "execution_count": 25,
   "metadata": {},
   "outputs": [
    {
     "data": {
      "text/plain": [
       "array([' 01/07/2018 ', ' 02/07/2018 ', ' 03/07/2018 ', ' 04/07/2018 ',\n",
       "       ' 05/07/2018 ', ' 06/07/2018 ', ' 07/07/2018 ', ' 08/07/2018 ',\n",
       "       ' 09/07/2018 ', ' 10/07/2018 ', ' 11/07/2018 ', ' 12/07/2018 ',\n",
       "       ' 13/07/2018 ', ' 14/07/2018 ', ' 15/07/2018 ', ' 16/07/2018 ',\n",
       "       ' 17/07/2018 ', ' 18/07/2018 ', ' 19/07/2018 ', ' 20/07/2018 ',\n",
       "       ' 21/07/2018 ', ' 22/07/2018 ', ' 23/07/2018 ', ' 24/07/2018 ',\n",
       "       ' 25/07/2018 ', ' 26/07/2018 ', ' 27/07/2018 ', ' 28/07/2018 ',\n",
       "       ' 29/07/2018 ', ' 30/07/2018 ', ' 31/07/2018 ', ' 01/08/2018     ',\n",
       "       ' 02/08/2018     ', ' 03/08/2018     ', ' 04/08/2018     ',\n",
       "       ' 05/08/2018     ', ' 06/08/2018     ', ' 07/08/2018     ',\n",
       "       ' 08/08/2018     ', ' 09/08/2018     ', ' 10/08/2018     ',\n",
       "       ' 11/08/2018     ', ' 12/08/2018     ', ' 13/08/2018     ',\n",
       "       ' 14/08/2018     ', ' 15/08/2018     ', ' 16/08/2018     ',\n",
       "       ' 17/08/2018     ', ' 18/08/2018     ', ' 19/08/2018     ',\n",
       "       ' 20/08/2018     ', ' 21/08/2018     ', ' 22/08/2018     ',\n",
       "       ' 23/08/2018     ', ' 24/08/2018     ', ' 25/08/2018     ',\n",
       "       ' 26/08/2018     ', ' 27/08/2018     ', ' 28/08/2018     ',\n",
       "       ' 29/08/2018     ', ' 30/08/2018     ', ' 31/08/2018     ',\n",
       "       ' 01/09/2018     ', ' 02/09/2018     ', ' 03/09/2018     ',\n",
       "       ' 04/09/2018     ', ' 05/09/2018     ', ' 06/09/2018     ',\n",
       "       ' 07/09/2018     ', ' 08/09/2018     ', ' 09/09/2018     ',\n",
       "       ' 10/09/2018     ', ' 11/09/2018     ', ' 12/09/2018     ',\n",
       "       ' 13/09/2018     ', ' 14/09/2018     ', ' 15/09/2018     ',\n",
       "       ' 16/09/2018     ', ' 17/09/2018     ', ' 18/09/2018     ',\n",
       "       ' 19/09/2018     ', ' 20/09/2018     ', ' 21/09/2018     ',\n",
       "       ' 22/09/2018     ', ' 23/09/2018     ', ' 24/09/2018     ',\n",
       "       ' 25/09/2018     ', ' 26/09/2018     ', ' 27/09/2018     ',\n",
       "       ' 28/09/2018     ', ' 29/09/2018     ', ' 30/09/2018     ',\n",
       "       ' 31/09/2018     ', '01/10/2018', '02/10/2018', '03/10/2018',\n",
       "       '04/10/2018', '05/10/2018', '06/10/2018', '07/10/2018',\n",
       "       '08/10/2018', '09/10/2018', '10/10/2018', '11/10/2018',\n",
       "       '12/10/2018', '13/10/2018', '14/10/2018', '15/10/2018',\n",
       "       '16/10/2018', '17/10/2018', '18/10/2018', '19/10/2018',\n",
       "       '20/10/2018', '21/10/2018', '22/10/2018', '23/10/2018',\n",
       "       '24/10/2018', '25/10/2018', '26/10/2018', '27/10/2018',\n",
       "       '28/10/2018', '29/10/2018', '30/10/2018', '31/10/2018',\n",
       "       '01/11/2018', '02/11/2018', '03/11/2018', '04/11/2018',\n",
       "       '05/11/2018', '06/11/2018', '07/11/2018', '08/11/2018',\n",
       "       '09/11/2018', '10/11/2018', '11/11/2018', '12/11/2018',\n",
       "       '13/11/2018', '14/11/2018', '15/11/2018', '16/11/2018',\n",
       "       '17/11/2018', '18/11/2018', '19/11/2018', '20/11/2018',\n",
       "       '21/11/2018', '22/11/2018', '23/11/2018', '24/11/2018',\n",
       "       '25/11/2018', '26/11/2018', '27/11/2018', '28/11/2018',\n",
       "       '29/11/2018', '30/11/2018', '01/12/2018', '02/12/2018',\n",
       "       '03/12/2018', '04/12/2018', '05/12/2018', '06/12/2018',\n",
       "       '07/12/2018', '08/12/2018', '09/12/2018', '10/12/2018',\n",
       "       '11/12/2018', '12/12/2018', '13/12/2018', '14/12/2018',\n",
       "       '15/12/2018', '16/12/2018', '17/12/2018', '18/12/2018',\n",
       "       '19/12/2018', '20/12/2018', '21/12/2018', '22/12/2018',\n",
       "       '23/12/2018', '24/12/2018', '25/12/2018', '26/12/2018',\n",
       "       '27/12/2018', '28/12/2018', '29/12/2018', '30/12/2018',\n",
       "       '31/12/2018'], dtype=object)"
      ]
     },
     "execution_count": 25,
     "metadata": {},
     "output_type": "execute_result"
    }
   ],
   "source": [
    "# procurando valores despadronizados na coluna 'codigo_infracao':\n",
    "\n",
    "df_semestral['data_cometimento'].unique()"
   ]
  },
  {
   "cell_type": "code",
   "execution_count": 26,
   "metadata": {},
   "outputs": [],
   "source": [
    "# Transformando a coluna em string:\n",
    "\n",
    "df_semestral['data_cometimento'] = df_semestral.data_cometimento.astype('str')"
   ]
  },
  {
   "cell_type": "code",
   "execution_count": 27,
   "metadata": {},
   "outputs": [],
   "source": [
    "# Função para correção dos valores despadronizados nas datas\n",
    "def corrigir_data(valor):\n",
    "    valor = valor.strip()\n",
    "    return valor\n",
    "\n",
    "# aplicando a função:\n",
    "df_semestral['data_cometimento'] = df_semestral['data_cometimento'].apply(corrigir_data)"
   ]
  },
  {
   "cell_type": "code",
   "execution_count": 28,
   "metadata": {},
   "outputs": [
    {
     "data": {
      "text/plain": [
       "array(['01/07/2018', '02/07/2018', '03/07/2018', '04/07/2018',\n",
       "       '05/07/2018', '06/07/2018', '07/07/2018', '08/07/2018',\n",
       "       '09/07/2018', '10/07/2018', '11/07/2018', '12/07/2018',\n",
       "       '13/07/2018', '14/07/2018', '15/07/2018', '16/07/2018',\n",
       "       '17/07/2018', '18/07/2018', '19/07/2018', '20/07/2018',\n",
       "       '21/07/2018', '22/07/2018', '23/07/2018', '24/07/2018',\n",
       "       '25/07/2018', '26/07/2018', '27/07/2018', '28/07/2018',\n",
       "       '29/07/2018', '30/07/2018', '31/07/2018', '01/08/2018',\n",
       "       '02/08/2018', '03/08/2018', '04/08/2018', '05/08/2018',\n",
       "       '06/08/2018', '07/08/2018', '08/08/2018', '09/08/2018',\n",
       "       '10/08/2018', '11/08/2018', '12/08/2018', '13/08/2018',\n",
       "       '14/08/2018', '15/08/2018', '16/08/2018', '17/08/2018',\n",
       "       '18/08/2018', '19/08/2018', '20/08/2018', '21/08/2018',\n",
       "       '22/08/2018', '23/08/2018', '24/08/2018', '25/08/2018',\n",
       "       '26/08/2018', '27/08/2018', '28/08/2018', '29/08/2018',\n",
       "       '30/08/2018', '31/08/2018', '01/09/2018', '02/09/2018',\n",
       "       '03/09/2018', '04/09/2018', '05/09/2018', '06/09/2018',\n",
       "       '07/09/2018', '08/09/2018', '09/09/2018', '10/09/2018',\n",
       "       '11/09/2018', '12/09/2018', '13/09/2018', '14/09/2018',\n",
       "       '15/09/2018', '16/09/2018', '17/09/2018', '18/09/2018',\n",
       "       '19/09/2018', '20/09/2018', '21/09/2018', '22/09/2018',\n",
       "       '23/09/2018', '24/09/2018', '25/09/2018', '26/09/2018',\n",
       "       '27/09/2018', '28/09/2018', '29/09/2018', '30/09/2018',\n",
       "       '31/09/2018', '01/10/2018', '02/10/2018', '03/10/2018',\n",
       "       '04/10/2018', '05/10/2018', '06/10/2018', '07/10/2018',\n",
       "       '08/10/2018', '09/10/2018', '10/10/2018', '11/10/2018',\n",
       "       '12/10/2018', '13/10/2018', '14/10/2018', '15/10/2018',\n",
       "       '16/10/2018', '17/10/2018', '18/10/2018', '19/10/2018',\n",
       "       '20/10/2018', '21/10/2018', '22/10/2018', '23/10/2018',\n",
       "       '24/10/2018', '25/10/2018', '26/10/2018', '27/10/2018',\n",
       "       '28/10/2018', '29/10/2018', '30/10/2018', '31/10/2018',\n",
       "       '01/11/2018', '02/11/2018', '03/11/2018', '04/11/2018',\n",
       "       '05/11/2018', '06/11/2018', '07/11/2018', '08/11/2018',\n",
       "       '09/11/2018', '10/11/2018', '11/11/2018', '12/11/2018',\n",
       "       '13/11/2018', '14/11/2018', '15/11/2018', '16/11/2018',\n",
       "       '17/11/2018', '18/11/2018', '19/11/2018', '20/11/2018',\n",
       "       '21/11/2018', '22/11/2018', '23/11/2018', '24/11/2018',\n",
       "       '25/11/2018', '26/11/2018', '27/11/2018', '28/11/2018',\n",
       "       '29/11/2018', '30/11/2018', '01/12/2018', '02/12/2018',\n",
       "       '03/12/2018', '04/12/2018', '05/12/2018', '06/12/2018',\n",
       "       '07/12/2018', '08/12/2018', '09/12/2018', '10/12/2018',\n",
       "       '11/12/2018', '12/12/2018', '13/12/2018', '14/12/2018',\n",
       "       '15/12/2018', '16/12/2018', '17/12/2018', '18/12/2018',\n",
       "       '19/12/2018', '20/12/2018', '21/12/2018', '22/12/2018',\n",
       "       '23/12/2018', '24/12/2018', '25/12/2018', '26/12/2018',\n",
       "       '27/12/2018', '28/12/2018', '29/12/2018', '30/12/2018',\n",
       "       '31/12/2018'], dtype=object)"
      ]
     },
     "execution_count": 28,
     "metadata": {},
     "output_type": "execute_result"
    }
   ],
   "source": [
    "# Visualização\n",
    "df_semestral['data_cometimento'].unique()"
   ]
  },
  {
   "cell_type": "markdown",
   "metadata": {},
   "source": [
    "### *Erro encontrado:*\n",
    "### *- setembro possui 30 dias mas no DataSet possui o dia  31!*"
   ]
  },
  {
   "cell_type": "code",
   "execution_count": 30,
   "metadata": {},
   "outputs": [],
   "source": [
    "# removendo o dia inexistente do DataSet\n",
    "df_semestral.drop(df_semestral[df_semestral['data_cometimento'] == '31/09/2018'].index, inplace=True)"
   ]
  },
  {
   "cell_type": "code",
   "execution_count": 31,
   "metadata": {},
   "outputs": [
    {
     "data": {
      "text/plain": [
       "(387026, 5)"
      ]
     },
     "execution_count": 31,
     "metadata": {},
     "output_type": "execute_result"
    }
   ],
   "source": [
    "# Novo comprimento do DataSet:\n",
    "df_semestral.shape"
   ]
  },
  {
   "cell_type": "markdown",
   "metadata": {},
   "source": [
    "## *Coluna ['hora_cometimento']*"
   ]
  },
  {
   "cell_type": "code",
   "execution_count": 32,
   "metadata": {},
   "outputs": [
    {
     "data": {
      "text/plain": [
       "array([' 00:01   ', ' 00:02   ', ' 00:02  ', ..., '03:02', '03:35',\n",
       "       '03:27'], dtype=object)"
      ]
     },
     "execution_count": 32,
     "metadata": {},
     "output_type": "execute_result"
    }
   ],
   "source": [
    "# procurando valores despadronizados na coluna 'hora_cometimento':\n",
    "df_semestral['hora_cometimento'].unique()"
   ]
  },
  {
   "cell_type": "code",
   "execution_count": 33,
   "metadata": {},
   "outputs": [],
   "source": [
    "# função para corrigir os espaços desnecessarios nos valores da coluna\n",
    "def corrigir_hora(valor):\n",
    "    valor = valor.strip()\n",
    "    return valor\n",
    "\n",
    "# aplicando a função:\n",
    "df_semestral['hora_cometimento'] = df_semestral['hora_cometimento'].apply(corrigir_hora)"
   ]
  },
  {
   "cell_type": "code",
   "execution_count": 34,
   "metadata": {},
   "outputs": [
    {
     "data": {
      "text/plain": [
       "array(['00:01', '00:02', '00:03', ..., '02:52', '05:36', '03:55'],\n",
       "      dtype=object)"
      ]
     },
     "execution_count": 34,
     "metadata": {},
     "output_type": "execute_result"
    }
   ],
   "source": [
    "# Verificação:\n",
    "df_semestral['hora_cometimento'].unique()"
   ]
  },
  {
   "cell_type": "markdown",
   "metadata": {},
   "source": [
    "# **Visualização de Dados:**"
   ]
  },
  {
   "cell_type": "markdown",
   "metadata": {},
   "source": [
    "### *Qual o dia em que mais Infrações foram registradas?*"
   ]
  },
  {
   "cell_type": "code",
   "execution_count": 35,
   "metadata": {},
   "outputs": [
    {
     "data": {
      "text/plain": [
       "14/12/2018    4476\n",
       "Name: data_cometimento, dtype: int64"
      ]
     },
     "execution_count": 35,
     "metadata": {},
     "output_type": "execute_result"
    }
   ],
   "source": [
    "df_semestral['data_cometimento'].value_counts().head(1)"
   ]
  },
  {
   "cell_type": "markdown",
   "metadata": {},
   "source": [
    "### *Qual o horario(em segundos) em que mais infrações foram registradas?¶*"
   ]
  },
  {
   "cell_type": "code",
   "execution_count": 36,
   "metadata": {},
   "outputs": [
    {
     "data": {
      "text/plain": [
       "16:20    571\n",
       "Name: hora_cometimento, dtype: int64"
      ]
     },
     "execution_count": 36,
     "metadata": {},
     "output_type": "execute_result"
    }
   ],
   "source": [
    "df_semestral['hora_cometimento'].value_counts().head(1)"
   ]
  },
  {
   "cell_type": "markdown",
   "metadata": {},
   "source": [
    "### *Qual a Infração mais comum?*"
   ]
  },
  {
   "cell_type": "code",
   "execution_count": 37,
   "metadata": {},
   "outputs": [
    {
     "data": {
      "text/plain": [
       "7455-0    187258\n",
       "5681-0     32683\n",
       "7463-0     21350\n",
       "6769-0     20157\n",
       "5690-0     14137\n",
       "Name: codigo_infracao, dtype: int64"
      ]
     },
     "execution_count": 37,
     "metadata": {},
     "output_type": "execute_result"
    }
   ],
   "source": [
    "df_semestral['codigo_infracao'].value_counts().head()"
   ]
  },
  {
   "cell_type": "markdown",
   "metadata": {},
   "source": [
    "#### *- 7455-0 (Transitar em velocidade superior à máxima permitida em até 20%)*\n",
    "#### *- 5681-0 (Transitar na faixa/pista da direita regul circulação exclusiva determ veículo)*\n",
    "#### *- 7463-0 (Transitar em velocidade superior à máxima permitida em mais de 20% até 50%)*\n",
    "#### *- 6769-0 (Conduzir veíc c/ defeito no sist de iluminação, sinaliz ou lâmpadas queimadas)*\n",
    "#### *- 5690-0 (Transitar na faixa/pista da esquerda regul circulação exclusiva determ veículo)*"
   ]
  },
  {
   "cell_type": "markdown",
   "metadata": {},
   "source": [
    "### *Quais são os tipos de veiculos que mais cometem infrações?¶*"
   ]
  },
  {
   "cell_type": "code",
   "execution_count": 39,
   "metadata": {},
   "outputs": [
    {
     "data": {
      "text/plain": [
       "automovel      277467\n",
       "caminhonete     30705\n",
       "caminhoneta     22696\n",
       "motocicleta     21964\n",
       "utilitario      13041\n",
       "Name: tipo_veiculo, dtype: int64"
      ]
     },
     "execution_count": 39,
     "metadata": {},
     "output_type": "execute_result"
    }
   ],
   "source": [
    "df_semestral['tipo_veiculo'].value_counts().head()"
   ]
  },
  {
   "cell_type": "markdown",
   "metadata": {},
   "source": [
    "### *Quais os tipos de condutores que mais cometem Infrações?¶*"
   ]
  },
  {
   "cell_type": "code",
   "execution_count": 40,
   "metadata": {},
   "outputs": [
    {
     "data": {
      "text/plain": [
       "condutor            356623\n",
       "proprietario         30381\n",
       "servidor_publico        12\n",
       "pessoa_juridica          5\n",
       "pessoa_fisica            5\n",
       "Name: tipo_infrator, dtype: int64"
      ]
     },
     "execution_count": 40,
     "metadata": {},
     "output_type": "execute_result"
    }
   ],
   "source": [
    "df_semestral['tipo_infrator'].value_counts().head()"
   ]
  },
  {
   "cell_type": "markdown",
   "metadata": {},
   "source": [
    "### *Qual a relação entre os meses e a quantidade de Infrações Registradas?*"
   ]
  },
  {
   "cell_type": "code",
   "execution_count": 42,
   "metadata": {},
   "outputs": [],
   "source": [
    "# Criação de uma nova coluna com os dias em que ocorreram as Infrações\n",
    "def lista_dias(valor):\n",
    "    lista = []\n",
    "    for data in valor:\n",
    "        lista.append(data[0:2])\n",
    "    return lista\n",
    "\n",
    "# aplicando a função ao DataSet:\n",
    "df_semestral['dia_cometimento'] = lista_dias(df_semestral['data_cometimento'])"
   ]
  },
  {
   "cell_type": "code",
   "execution_count": 43,
   "metadata": {},
   "outputs": [],
   "source": [
    "# Criação de uma nova coluna com os meses em que ocorreram as Infrações\n",
    "def lista_meses(valor):\n",
    "    lista = []\n",
    "    for data in valor:\n",
    "        lista.append(data[3:5])\n",
    "    return lista\n",
    "\n",
    "# aplicando a função ao DataSet:\n",
    "df_semestral['mes_cometimento'] = lista_meses(df_semestral['data_cometimento'])"
   ]
  },
  {
   "cell_type": "code",
   "execution_count": 44,
   "metadata": {},
   "outputs": [
    {
     "data": {
      "text/html": [
       "<div>\n",
       "<style scoped>\n",
       "    .dataframe tbody tr th:only-of-type {\n",
       "        vertical-align: middle;\n",
       "    }\n",
       "\n",
       "    .dataframe tbody tr th {\n",
       "        vertical-align: top;\n",
       "    }\n",
       "\n",
       "    .dataframe thead th {\n",
       "        text-align: right;\n",
       "    }\n",
       "</style>\n",
       "<table border=\"1\" class=\"dataframe\">\n",
       "  <thead>\n",
       "    <tr style=\"text-align: right;\">\n",
       "      <th></th>\n",
       "      <th>codigo_infracao</th>\n",
       "      <th>tipo_infrator</th>\n",
       "      <th>tipo_veiculo</th>\n",
       "      <th>data_cometimento</th>\n",
       "      <th>hora_cometimento</th>\n",
       "      <th>dia_cometimento</th>\n",
       "      <th>mes_cometimento</th>\n",
       "    </tr>\n",
       "  </thead>\n",
       "  <tbody>\n",
       "    <tr>\n",
       "      <th>0</th>\n",
       "      <td>7455-0</td>\n",
       "      <td>condutor</td>\n",
       "      <td>automovel</td>\n",
       "      <td>01/07/2018</td>\n",
       "      <td>00:01</td>\n",
       "      <td>01</td>\n",
       "      <td>07</td>\n",
       "    </tr>\n",
       "    <tr>\n",
       "      <th>1</th>\n",
       "      <td>7455-0</td>\n",
       "      <td>condutor</td>\n",
       "      <td>automovel</td>\n",
       "      <td>01/07/2018</td>\n",
       "      <td>00:02</td>\n",
       "      <td>01</td>\n",
       "      <td>07</td>\n",
       "    </tr>\n",
       "    <tr>\n",
       "      <th>2</th>\n",
       "      <td>6769-0</td>\n",
       "      <td>proprietario</td>\n",
       "      <td>automovel</td>\n",
       "      <td>01/07/2018</td>\n",
       "      <td>00:02</td>\n",
       "      <td>01</td>\n",
       "      <td>07</td>\n",
       "    </tr>\n",
       "    <tr>\n",
       "      <th>3</th>\n",
       "      <td>7285-0</td>\n",
       "      <td>condutor</td>\n",
       "      <td>automovel</td>\n",
       "      <td>01/07/2018</td>\n",
       "      <td>00:02</td>\n",
       "      <td>01</td>\n",
       "      <td>07</td>\n",
       "    </tr>\n",
       "    <tr>\n",
       "      <th>4</th>\n",
       "      <td>7579-0</td>\n",
       "      <td>condutor</td>\n",
       "      <td>automovel</td>\n",
       "      <td>01/07/2018</td>\n",
       "      <td>00:03</td>\n",
       "      <td>01</td>\n",
       "      <td>07</td>\n",
       "    </tr>\n",
       "  </tbody>\n",
       "</table>\n",
       "</div>"
      ],
      "text/plain": [
       "  codigo_infracao tipo_infrator tipo_veiculo data_cometimento  \\\n",
       "0          7455-0      condutor    automovel       01/07/2018   \n",
       "1          7455-0      condutor    automovel       01/07/2018   \n",
       "2          6769-0  proprietario    automovel       01/07/2018   \n",
       "3          7285-0      condutor    automovel       01/07/2018   \n",
       "4          7579-0      condutor    automovel       01/07/2018   \n",
       "\n",
       "  hora_cometimento dia_cometimento mes_cometimento  \n",
       "0            00:01              01              07  \n",
       "1            00:02              01              07  \n",
       "2            00:02              01              07  \n",
       "3            00:02              01              07  \n",
       "4            00:03              01              07  "
      ]
     },
     "execution_count": 44,
     "metadata": {},
     "output_type": "execute_result"
    }
   ],
   "source": [
    "# Visualização:\n",
    "df_semestral.head()"
   ]
  },
  {
   "cell_type": "code",
   "execution_count": 45,
   "metadata": {},
   "outputs": [],
   "source": [
    "# Variavel com os meses\n",
    "qtd_mes = df_semestral['mes_cometimento'].value_counts().sort_index()"
   ]
  },
  {
   "cell_type": "code",
   "execution_count": 47,
   "metadata": {},
   "outputs": [
    {
     "data": {
      "image/png": "[encoded data removed]",
      "text/plain": [
       "<Figure size 864x576 with 1 Axes>"
      ]
     },
     "metadata": {},
     "output_type": "display_data"
    }
   ],
   "source": [
    "# plot de Infrações x meses\n",
    "plt.figure(figsize=(12, 8))\n",
    "plt.bar(qtd_mes.index, qtd_mes.values)\n",
    "labels = ['Julho','Agosto','Setembro','Outubro','Novembro','Dezembro']\n",
    "\n",
    "plt.xlabel('Meses', fontsize=20)\n",
    "plt.xticks(qtd_mes.index, labels, fontsize=14)\n",
    "plt.yticks(fontsize=14)\n",
    "plt.ylabel('Número de Infrações', fontsize=20)\n",
    "\n",
    "plt.title('Infrações por Mês', fontsize=22)\n",
    "\n",
    "plt.show()"
   ]
  },
  {
   "cell_type": "markdown",
   "metadata": {},
   "source": [
    "### *Qual a relação entre o dia do mês e a quantidade de Infrações?¶*"
   ]
  },
  {
   "cell_type": "code",
   "execution_count": 48,
   "metadata": {},
   "outputs": [],
   "source": [
    "# variavel com os dias\n",
    "qtd_dia = df_semestral['dia_cometimento'].value_counts().sort_index()"
   ]
  },
  {
   "cell_type": "code",
   "execution_count": 49,
   "metadata": {},
   "outputs": [
    {
     "data": {
      "image/png": "[encoded data removed]",
      "text/plain": [
       "<Figure size 864x576 with 1 Axes>"
      ]
     },
     "metadata": {},
     "output_type": "display_data"
    }
   ],
   "source": [
    "# plot de Infrações x dias durante o semestre\n",
    "plt.figure(figsize=(12, 8))\n",
    "plt.scatter(qtd_dia.index, qtd_dia.values)\n",
    "plt.xlabel('Dias', fontsize=18)\n",
    "plt.ylabel('Número de Infrações', fontsize=18)\n",
    "plt.title('Infrações por dia durante o semestre', fontsize=22)\n",
    "\n",
    "plt.show()"
   ]
  },
  {
   "cell_type": "markdown",
   "metadata": {},
   "source": [
    "### *Qual a relação entre o tipo de veiculo s a quantidade de Infrações?*"
   ]
  },
  {
   "cell_type": "code",
   "execution_count": 50,
   "metadata": {},
   "outputs": [],
   "source": [
    "# Variavel com os tipos de veiculos\n",
    "qtd_vei = df_semestral['tipo_veiculo'].value_counts().sort_index()"
   ]
  },
  {
   "cell_type": "code",
   "execution_count": 51,
   "metadata": {},
   "outputs": [
    {
     "data": {
      "image/png": "[encoded data removed]",
      "text/plain": [
       "<Figure size 864x576 with 1 Axes>"
      ]
     },
     "metadata": {},
     "output_type": "display_data"
    }
   ],
   "source": [
    "# plot Número de Infrações por tipo de Veiculo\n",
    "plt.figure(figsize=(12, 8))\n",
    "plt.barh(qtd_vei.index, qtd_vei.values)\n",
    "\n",
    "plt.xlabel('Número de Infrações', fontsize=20)\n",
    "plt.ylabel('Veiculos', fontsize=20, rotation='horizontal')\n",
    "\n",
    "plt.xticks(fontsize=14)\n",
    "plt.yticks(fontsize=14)\n",
    "\n",
    "plt.title('Número de Infrações por tipo de Veiculo', fontsize=22)\n",
    "\n",
    "plt.show()"
   ]
  },
  {
   "cell_type": "markdown",
   "metadata": {},
   "source": [
    "### *Qual a relação entre o tipo de Infrator e a quantidade de Infrações?¶*"
   ]
  },
  {
   "cell_type": "code",
   "execution_count": 52,
   "metadata": {},
   "outputs": [],
   "source": [
    "# variavel com o tipo de condutor\n",
    "qtd_cond = df_semestral['tipo_infrator'].value_counts().sort_index()"
   ]
  },
  {
   "cell_type": "code",
   "execution_count": 53,
   "metadata": {},
   "outputs": [
    {
     "data": {
      "image/png": "[encoded data removed]",
      "text/plain": [
       "<Figure size 864x576 with 1 Axes>"
      ]
     },
     "metadata": {},
     "output_type": "display_data"
    }
   ],
   "source": [
    "# plot Número de Infrações por tipo de Infrator\n",
    "plt.figure(figsize=(12, 8))\n",
    "plt.bar(qtd_cond.index, qtd_cond.values)\n",
    "\n",
    "plt.xlabel('Infratores', fontsize=20)\n",
    "plt.ylabel('Número de Infrações', fontsize=20)\n",
    "\n",
    "plt.xticks(fontsize=14)\n",
    "plt.yticks(fontsize=14)\n",
    "\n",
    "plt.title('Número de Infrações por tipo de Infrator', fontsize=22)\n",
    "\n",
    "plt.show()"
   ]
  },
  {
   "cell_type": "code",
   "execution_count": 54,
   "metadata": {},
   "outputs": [
    {
     "data": {
      "text/plain": [
       "234"
      ]
     },
     "execution_count": 54,
     "metadata": {},
     "output_type": "execute_result"
    }
   ],
   "source": [
    "# Utilização do \"len()\" para saber quantos valores unicos existem na variavel 'codigo_infracao' \n",
    "len(df_semestral['codigo_infracao'].unique())"
   ]
  },
  {
   "cell_type": "code",
   "execution_count": 55,
   "metadata": {},
   "outputs": [
    {
     "data": {
      "text/plain": [
       "array(['7455-0', '6769-0', '7285-0', '7579-0', '7463-0', '6599-2',\n",
       "       '7234-0', '5045-0', '7471-0', '6637-2', '5169-1', '6726-1',\n",
       "       '5010-0', '6807-0', '6610-2', '5835-0', '5118-0', '6912-0',\n",
       "       '5185-2', '5908-0', '6530-0', '5720-0', '5410-0', '5738-0',\n",
       "       '5843-4', '5185-1', '7633-2', '5843-3', '5207-0', '7633-1',\n",
       "       '5193-0', '5711-0', '5800-0', '5967-0', '7340-0', '6637-1',\n",
       "       '6408-0', '7366-1', '5991-0', '7366-2', '5061-0', '7315-0',\n",
       "       '6670-0', '6700-0', '6653-1', '6270-0', '5037-1', '5878-0',\n",
       "       '6823-1', '5231-1', '7358-0', '6378-0', '5444-0', '6645-0',\n",
       "       '5428-2', '5452-6', '5819-6', '6602-0', '6173-2', '6858-0',\n",
       "       '5053-1', '6866-1', '5851-2', '7625-1', '5568-0', '5746-3',\n",
       "       '5509-0', '6050-1', '5690-0', '7625-2', '6980-0', '5274-1',\n",
       "       '5860-0', '5827-0', '5819-7', '5851-1', '5819-4', '5770-3',\n",
       "       '6122-0', '5819-5', '5681-0', '5819-3', '6068-1', '5975-0',\n",
       "       '5797-0', '7587-0', '5550-0', '5231-2', '5274-2', '6041-2',\n",
       "       '5770-4', '5452-7', '6785-2', '5819-2', '6394-4', '5622-2',\n",
       "       '5614-2', '6050-2', '6653-2', '6017-3', '6025-0', '5215-2',\n",
       "       '6599-1', '6718-0', '6033-0', '6041-1', '5142-0', '6548-0',\n",
       "       '5452-5', '6610-1', '5819-1', '7099-1', '6483-0', '6181-0',\n",
       "       '5479-0', '7242-1', '7480-1', '5452-2', '6785-1', '5843-1',\n",
       "       '6432-2', '6076-0', '6173-1', '7510-2', '5428-3', '5703-0',\n",
       "       '5746-1', '5029-2', '7552-2', '6190-0', '6920-1', '6688-0',\n",
       "       '7323-2', '5371-0', '5177-0', '6564-0', '6955-0', '5134-1',\n",
       "       '6556-1', '7064-0', '5320-0', '6580-0', '5452-3', '5169-2',\n",
       "       '5088-1', '5487-0', '6130-0', '5428-1', '7528-1', '6440-0',\n",
       "       '6963-0', '5029-1', '5665-0', '6149-0', '6050-3', '6017-2',\n",
       "       '6432-1', '6971-0', '5452-1', '6750-0', '5126-1', '5940-1',\n",
       "       '5622-5', '7242-2', '6467-0', '5746-2', '6866-2', '5959-4',\n",
       "       '6173-3', '5770-1', '5460-0', '7293-0', '5894-0', '5096-0',\n",
       "       '5770-2', '6084-1', '6491-0', '5843-2', '5290-0', '6017-4',\n",
       "       '6793-0', '6157-0', '7323-3', '6327-0', '5622-3', '7226-1',\n",
       "       '5525-0', '7048-1', '5452-4', '5258-3', '7056-1', '7218-0',\n",
       "       '5541-1', '5037-2', '5886-0', '7498-0', '6017-1', '5126-2',\n",
       "       '5215-1', '6459-1', '5762-0', '6947-1', '5541-2', '7277-0',\n",
       "       '6459-2', '5282-0', '6009-2', '6084-3', '7331-0', '5428-4',\n",
       "       '6084-4', '5223-1', '5614-1', '5355-0', '5312-0', '5622-1',\n",
       "       '5339-0', '5606-0', '6068-2', '5622-4', '5223-2', '6742-0',\n",
       "       '6661-0', '5347-0', '5053-4', '7099-2', '5614-3', '5630-0',\n",
       "       '6556-4', '6556-2', '6696-1', '6394-3', '6017-5', '5134-2'],\n",
       "      dtype=object)"
      ]
     },
     "execution_count": 55,
     "metadata": {},
     "output_type": "execute_result"
    }
   ],
   "source": [
    "# Visualização:\n",
    "df_semestral['codigo_infracao'].unique()"
   ]
  },
  {
   "cell_type": "markdown",
   "metadata": {},
   "source": [
    "### *Qual a relação entre a gravidade da Infração e a quantidade de Infrações ocorridas?*"
   ]
  },
  {
   "cell_type": "markdown",
   "metadata": {},
   "source": [
    "#### ***- As funções desenvolvidas nas proximas celulas utilizarão como base Informações da tabela disponibilizada no site do DETRAN:***\n",
    "#### ***- LINK:https://detran.to.gov.br/infracao/tabela-de-infracoes/***  "
   ]
  },
  {
   "cell_type": "code",
   "execution_count": 58,
   "metadata": {},
   "outputs": [],
   "source": [
    "def coluna_gravidade(valor):\n",
    "    \n",
    "    # Váriaveis de gravidade:\n",
    "    \n",
    "    sem_g = ('7480-1','7498-0','7510-2','7528-1') # 4\n",
    "    \n",
    "    leve = ('5207-0', '5444-0', '5606-0', '5622-1', '5622-2', '5622-3', '5622-4', '5622-5', '5681-0', '6440-0', '6483-0', '6491-0', '6912-0') # 13 \n",
    "    \n",
    "    media = ('5223-1', '5223-2', '5231-1', '5231-2', '5347-0', '5371-0', '5410-0', '5460-0', '5550-0', '5630-0', '5665-0', '5703-0', '5711-0', \n",
    "             '5746-2', '5746-3', '5762-0', '5851-1', '5851-2', '5878-0', '5894-0', '6190-0', '6548-0', '6750-0', '6769-0', '6858-0', '6866-1', \n",
    "             '6866-2', '6955-0', '7099-2', '7226-1', '7242-1', '7242-2', '7277-0', '7285-0', '7293-0', '7315-0', '7323-3', '7331-0', '7340-0', # 51\n",
    "             '7358-0', '7366-1', '7366-2', '5479-0', '5509-0', '5525-0', '5746-1', '5860-0', '6408-0', '7234-0', '7323-2', '7455-0')\n",
    "    \n",
    "    grave = ('5185-1', '5355-0', '5452-1', '5452-2', '5452-3', '5452-4', '5452-6', '5452-7', '5487-0', '5541-2', '5568-0', '5614-1', '5614-3', # 72 \n",
    "             '5690-0', '5720-0', '5800-0', '5827-0', '5835-0', '5843-1', '5843-2', '5843-3', '5975-0', '6041-1', '6041-2', '6068-1', '6068-2', \n",
    "             '6084-1', '6084-3', '6157-0', '6173-1', '6173-2', '6181-0', '6270-0', '6327-0', '6378-0', '6459-1', '6467-0', '6530-0', '6610-1', \n",
    "             '6610-2', '6637-1', '6637-2', '6645-0', '6653-1', '6653-2', '6688-0', '6696-1', '6700-0', '6718-0', '6726-1', '6742-0', '6920-1', \n",
    "             '6947-1', '7099-1', '7218-0', '7463-0', '7552-2', '5185-2', '5339-0', '5452-5', '5541-1', '5614-2', '5843-4', '6084-4', '6173-3',\n",
    "             '6432-1', '6432-2', '6459-2', '6661-0', '6670-0', '6823-1', '6963-0')\n",
    "             \n",
    "    graviss = ( '5045-0', '5053-4', '5096-0', '5142-0', '5177-0', '5428-1', '5428-3', '5428-4', '5738-0', '5770-1', '5770-3', '5886-0', '5991-0'\n",
    "              , '6009-2', '6017-1', '6017-2', '6017-3', '6017-4', '6017-5', '6025-0', '6033-0', '6050-1', '6050-2', '6050-3', '6130-0', '6149-0'\n",
    "              , '6394-3', '6394-4', '6556-2', '6564-0', '6580-0', '6599-2', '6602-0', '6785-1', '6785-2', '6807-0', '6971-0', '6980-0', '7587-0' # 77\n",
    "              , '5053-1', '5193-0', '5428-2', '5770-2', '5770-4', '6122-0', '6556-1', '6556-4', '6599-1', '6793-0', '7625-1', '7625-2', '7633-1'\n",
    "              , '7633-2', '5029-1', '5029-2', '5037-1', '5037-2', '5061-0', '5088-1', '5118-0', '5126-1', '5126-2', '5134-1', '5134-2', '5258-3'\n",
    "              , '5819-1', '5819-2', '5819-3', '5819-4', '5819-5', '5819-6', '5819-7', '5908-0', '5940-1', '5959-4', '5967-0', '5010-0')\n",
    "             \n",
    "    auto_s = ('7471-0', '5215-2', '6076-0', '7048-1', '7056-1', '7064-0', '5215-1', '5282-0', '5290-0', '5320-0', '5169-1', '5169-2', '5274-1',  # 17\n",
    "              '5274-2', '7579-0', '5797-0', '5312-0') \n",
    "                     \n",
    "    # sta que receberá os valores\n",
    "    lista = []\n",
    "    \n",
    "             \n",
    "    # código \n",
    "    for codigo in valor:\n",
    "             \n",
    "             if codigo in sem_g:\n",
    "                 lista.append('sem_gravidade')\n",
    "             \n",
    "             elif codigo in leve:\n",
    "                 lista.append('leve')\n",
    "             \n",
    "             elif codigo in media:\n",
    "                 lista.append('media')\n",
    "             \n",
    "             elif codigo in grave:\n",
    "                 lista.append('grave')\n",
    "             \n",
    "             elif codigo in graviss:\n",
    "                 lista.append('gravissima')\n",
    "             \n",
    "             elif codigo in auto_s:\n",
    "                 lista.append('auto_suspensiva')\n",
    "              \n",
    "    return lista "
   ]
  },
  {
   "cell_type": "code",
   "execution_count": 61,
   "metadata": {},
   "outputs": [],
   "source": [
    "# Aplicando a função que define a gravidade da infração com base em sua númeração no código de transito:\n",
    "df_semestral['gravidade'] = coluna_gravidade(df_semestral['codigo_infracao'])"
   ]
  },
  {
   "cell_type": "code",
   "execution_count": 62,
   "metadata": {},
   "outputs": [
    {
     "data": {
      "text/plain": [
       "array(['media', 'auto_suspensiva', 'grave', 'gravissima', 'leve',\n",
       "       'sem_gravidade'], dtype=object)"
      ]
     },
     "execution_count": 62,
     "metadata": {},
     "output_type": "execute_result"
    }
   ],
   "source": [
    "# Verificação e visualização dos dados da nova coluna\n",
    "df_semestral['gravidade'].unique()"
   ]
  },
  {
   "cell_type": "code",
   "execution_count": 63,
   "metadata": {},
   "outputs": [
    {
     "data": {
      "text/plain": [
       "media              226755\n",
       "grave               67041\n",
       "gravissima          46101\n",
       "leve                38277\n",
       "auto_suspensiva      8834\n",
       "sem_gravidade          18\n",
       "Name: gravidade, dtype: int64"
      ]
     },
     "execution_count": 63,
     "metadata": {},
     "output_type": "execute_result"
    }
   ],
   "source": [
    "# Contagem dos valores por gravidade da infração\n",
    "df_semestral['gravidade'].value_counts()"
   ]
  },
  {
   "cell_type": "code",
   "execution_count": 64,
   "metadata": {},
   "outputs": [],
   "source": [
    "# Variavel contendo a quantidade de infrações por gravidade\n",
    "qtd_grav = df_semestral['gravidade'].value_counts().sort_values()"
   ]
  },
  {
   "cell_type": "code",
   "execution_count": 65,
   "metadata": {},
   "outputs": [
    {
     "data": {
      "image/png": "[encoded data removed]",
      "text/plain": [
       "<Figure size 1152x864 with 1 Axes>"
      ]
     },
     "metadata": {},
     "output_type": "display_data"
    }
   ],
   "source": [
    "# plotagem das informações anteriores em grafico\n",
    "plt.figure(figsize=(16, 12))\n",
    "plt.bar(qtd_grav.index, qtd_grav.values)\n",
    "labels = ['Sem gravidade', 'Auto-Suspensiva', 'Leve', 'Gravíssima', 'Grave', 'Média']\n",
    "\n",
    "plt.xlabel('Gravidade', fontsize=20)\n",
    "plt.xticks(qtd_grav.index, labels , fontsize=12)\n",
    "\n",
    "plt.yticks(fontsize=14)\n",
    "plt.ylabel('Quantidade de Infrações', fontsize=20)\n",
    "\n",
    "plt.title('Infrações por Gravidade', fontsize=22)\n",
    "\n",
    "plt.show()"
   ]
  },
  {
   "cell_type": "markdown",
   "metadata": {},
   "source": [
    "### *Qual a arrecadação total em Multas no ultimo semestre de 2018?*"
   ]
  },
  {
   "cell_type": "code",
   "execution_count": 66,
   "metadata": {},
   "outputs": [],
   "source": [
    "def coluna_arrecadacao(coluna):\n",
    "    \n",
    "    # valor da multa: 0\n",
    "    sem_multa = ('7480-1','7498-0','7510-2','7528-1') # 4\n",
    "    \n",
    "    # valor da multa: 88.38\n",
    "    a = ('5207-0', '5444-0', '5606-0', '5622-1', '5622-2', '5622-3', '5622-4', '5622-5', '5681-0', '6440-0', '6483-0', '6491-0', '6912-0') # 13 \n",
    "    \n",
    "    # valor da multa: 130.16\n",
    "    b = ('5223-1', '5223-2', '5231-1', '5231-2', '5347-0', '5371-0', '5410-0', '5460-0', '5550-0', '5630-0', '5665-0', '5703-0', '5711-0', \n",
    "         '5746-2', '5746-3', '5762-0', '5851-1', '5851-2', '5878-0', '5894-0', '6190-0', '6548-0', '6750-0', '6769-0', '6858-0', '6866-1', \n",
    "         '6866-2', '6955-0', '7099-2', '7226-1', '7242-1', '7242-2', '7277-0', '7285-0', '7293-0', '7315-0', '7323-3', '7331-0', '7340-0', # 51\n",
    "         '7358-0', '7366-1', '7366-2', '5479-0', '5509-0', '5525-0', '5746-1', '5860-0', '6408-0', '7234-0', '7323-2', '7455-0')\n",
    "    \n",
    "    # valor da multa: 195.23\n",
    "    c = ('5185-1', '5355-0', '5452-1', '5452-2', '5452-3', '5452-4', '5452-6', '5452-7', '5487-0', '5541-2', '5568-0', '5614-1', '5614-3', # 72 \n",
    "         '5690-0', '5720-0', '5800-0', '5827-0', '5835-0', '5843-1', '5843-2', '5843-3', '5975-0', '6041-1', '6041-2', '6068-1', '6068-2', \n",
    "         '6084-1', '6084-3', '6157-0', '6173-1', '6173-2', '6181-0', '6270-0', '6327-0', '6378-0', '6459-1', '6467-0', '6530-0', '6610-1', \n",
    "         '6610-2', '6637-1', '6637-2', '6645-0', '6653-1', '6653-2', '6688-0', '6696-1', '6700-0', '6718-0', '6726-1', '6742-0', '6920-1', \n",
    "         '6947-1', '7099-1', '7218-0', '7463-0', '7552-2', '5185-2', '5339-0', '5452-5', '5541-1', '5614-2', '5843-4', '6084-4', '6173-3',\n",
    "         '6432-1', '6432-2', '6459-2', '6661-0', '6670-0', '6823-1', '6963-0')\n",
    "    \n",
    "    # valor da multa: 880.41         \n",
    "    d = ('5010-0', '5037-1', '5037-2', '5061-0', '5088-1', '5118-0', '5134-1', '5134-2', '5819-1', '5819-2', '5819-3', '5819-4', '5819-5', # 15\n",
    "               '5819-6', '5819-7', '7471-0')\n",
    "    \n",
    "    # valor da multa: 1467.35\n",
    "    e = ('5029-1', '5029-2', '5126-1', '5126-2', '5908-0', '5924-1', '5940-1', '5959-4', '5967-0', '5282-0', '5290-0', '5312-0', '5320-0')\n",
    "               \n",
    "            \n",
    "    # valor da multa:  293.47\n",
    "    f = ( '5045-0', '5053-4', '5096-0', '5142-0', '5177-0', '5428-1', '5428-3', '5428-4', '5738-0', '5770-1', '5770-3', '5886-0', '5991-0'\n",
    "        , '6009-2', '6017-1', '6017-2', '6017-3', '6017-4', '6017-5', '6025-0', '6033-0', '6050-1', '6050-2', '6050-3', '6130-0', '6149-0'\n",
    "        , '6394-3', '6394-4', '6556-2', '6564-0', '6580-0', '6599-2', '6602-0', '6785-1', '6785-2', '6807-0', '6971-0', '6980-0', '7587-0' # 61\n",
    "        , '5053-1', '5193-0', '5428-2', '5770-2', '5770-4', '6122-0', '6556-1', '6556-4', '6599-1', '6793-0', '7625-1', '7625-2', '7633-1'\n",
    "        , '7633-2', '5215-2', '6076-0', '7048-1', '7056-1', '5215-1')\n",
    "               \n",
    "    # valor da multa:  2934.70\n",
    "    g = ('5258-3', '5169-1', '5169-2', '5274-1','5274-2', '5797-0', '7579-0', '7064-0')\n",
    "    \n",
    "    # lista para as variaveis:\n",
    "    lista = []\n",
    "               \n",
    "   # código \n",
    "    for codigo in coluna:\n",
    "             \n",
    "             if codigo in sem_multa:\n",
    "                 lista.append(0)\n",
    "             \n",
    "             elif codigo in a:\n",
    "                 lista.append(88.38)\n",
    "             \n",
    "             elif codigo in b:\n",
    "                 lista.append(130.16)\n",
    "             \n",
    "             elif codigo in c:\n",
    "                 lista.append(195.23)\n",
    "             \n",
    "             elif codigo in d:\n",
    "                 lista.append(880.41)\n",
    "             \n",
    "             elif codigo in e:\n",
    "                 lista.append(1467.35)\n",
    "               \n",
    "             elif codigo in f:\n",
    "                 lista.append(293.47)\n",
    "               \n",
    "             elif codigo in g:\n",
    "                 lista.append(2934.70)\n",
    "              \n",
    "    return lista             "
   ]
  },
  {
   "cell_type": "code",
   "execution_count": 69,
   "metadata": {},
   "outputs": [],
   "source": [
    "# aplicando a função que define a multa da infração com base em sua númeração no código de transito\n",
    "df_semestral['arrecadacao'] = coluna_arrecadacao(df_semestral['codigo_infracao'])"
   ]
  },
  {
   "cell_type": "code",
   "execution_count": 70,
   "metadata": {},
   "outputs": [
    {
     "data": {
      "text/html": [
       "<div>\n",
       "<style scoped>\n",
       "    .dataframe tbody tr th:only-of-type {\n",
       "        vertical-align: middle;\n",
       "    }\n",
       "\n",
       "    .dataframe tbody tr th {\n",
       "        vertical-align: top;\n",
       "    }\n",
       "\n",
       "    .dataframe thead th {\n",
       "        text-align: right;\n",
       "    }\n",
       "</style>\n",
       "<table border=\"1\" class=\"dataframe\">\n",
       "  <thead>\n",
       "    <tr style=\"text-align: right;\">\n",
       "      <th></th>\n",
       "      <th>codigo_infracao</th>\n",
       "      <th>tipo_infrator</th>\n",
       "      <th>tipo_veiculo</th>\n",
       "      <th>data_cometimento</th>\n",
       "      <th>hora_cometimento</th>\n",
       "      <th>dia_cometimento</th>\n",
       "      <th>mes_cometimento</th>\n",
       "      <th>gravidade</th>\n",
       "      <th>arrecadacao</th>\n",
       "    </tr>\n",
       "  </thead>\n",
       "  <tbody>\n",
       "    <tr>\n",
       "      <th>0</th>\n",
       "      <td>7455-0</td>\n",
       "      <td>condutor</td>\n",
       "      <td>automovel</td>\n",
       "      <td>01/07/2018</td>\n",
       "      <td>00:01</td>\n",
       "      <td>01</td>\n",
       "      <td>07</td>\n",
       "      <td>media</td>\n",
       "      <td>130.16</td>\n",
       "    </tr>\n",
       "    <tr>\n",
       "      <th>1</th>\n",
       "      <td>7455-0</td>\n",
       "      <td>condutor</td>\n",
       "      <td>automovel</td>\n",
       "      <td>01/07/2018</td>\n",
       "      <td>00:02</td>\n",
       "      <td>01</td>\n",
       "      <td>07</td>\n",
       "      <td>media</td>\n",
       "      <td>130.16</td>\n",
       "    </tr>\n",
       "    <tr>\n",
       "      <th>2</th>\n",
       "      <td>6769-0</td>\n",
       "      <td>proprietario</td>\n",
       "      <td>automovel</td>\n",
       "      <td>01/07/2018</td>\n",
       "      <td>00:02</td>\n",
       "      <td>01</td>\n",
       "      <td>07</td>\n",
       "      <td>media</td>\n",
       "      <td>130.16</td>\n",
       "    </tr>\n",
       "    <tr>\n",
       "      <th>3</th>\n",
       "      <td>7285-0</td>\n",
       "      <td>condutor</td>\n",
       "      <td>automovel</td>\n",
       "      <td>01/07/2018</td>\n",
       "      <td>00:02</td>\n",
       "      <td>01</td>\n",
       "      <td>07</td>\n",
       "      <td>media</td>\n",
       "      <td>130.16</td>\n",
       "    </tr>\n",
       "    <tr>\n",
       "      <th>4</th>\n",
       "      <td>7579-0</td>\n",
       "      <td>condutor</td>\n",
       "      <td>automovel</td>\n",
       "      <td>01/07/2018</td>\n",
       "      <td>00:03</td>\n",
       "      <td>01</td>\n",
       "      <td>07</td>\n",
       "      <td>auto_suspensiva</td>\n",
       "      <td>2934.70</td>\n",
       "    </tr>\n",
       "  </tbody>\n",
       "</table>\n",
       "</div>"
      ],
      "text/plain": [
       "  codigo_infracao tipo_infrator tipo_veiculo data_cometimento  \\\n",
       "0          7455-0      condutor    automovel       01/07/2018   \n",
       "1          7455-0      condutor    automovel       01/07/2018   \n",
       "2          6769-0  proprietario    automovel       01/07/2018   \n",
       "3          7285-0      condutor    automovel       01/07/2018   \n",
       "4          7579-0      condutor    automovel       01/07/2018   \n",
       "\n",
       "  hora_cometimento dia_cometimento mes_cometimento        gravidade  \\\n",
       "0            00:01              01              07            media   \n",
       "1            00:02              01              07            media   \n",
       "2            00:02              01              07            media   \n",
       "3            00:02              01              07            media   \n",
       "4            00:03              01              07  auto_suspensiva   \n",
       "\n",
       "   arrecadacao  \n",
       "0       130.16  \n",
       "1       130.16  \n",
       "2       130.16  \n",
       "3       130.16  \n",
       "4      2934.70  "
      ]
     },
     "execution_count": 70,
     "metadata": {},
     "output_type": "execute_result"
    }
   ],
   "source": [
    "# Visualização do DataSet:\n",
    "df_semestral.head()"
   ]
  },
  {
   "cell_type": "markdown",
   "metadata": {},
   "source": [
    "### *Qual foi a arrecadação total do DETRAN em multas no ultimo semestre de 2018?*"
   ]
  },
  {
   "cell_type": "code",
   "execution_count": 71,
   "metadata": {},
   "outputs": [
    {
     "data": {
      "text/plain": [
       "84164746.14"
      ]
     },
     "execution_count": 71,
     "metadata": {},
     "output_type": "execute_result"
    }
   ],
   "source": [
    "df_semestral['arrecadacao'].sum()"
   ]
  },
  {
   "cell_type": "markdown",
   "metadata": {},
   "source": [
    "### *Infrações por dia durante o semestre*"
   ]
  },
  {
   "cell_type": "code",
   "execution_count": 72,
   "metadata": {},
   "outputs": [
    {
     "data": {
      "text/plain": [
       "mes_cometimento  dia_cometimento\n",
       "07               01                  551807.41\n",
       "                 02                  339883.44\n",
       "                 03                  333576.41\n",
       "                 04                  256878.38\n",
       "                 05                  387668.37\n",
       "                 06                  467377.00\n",
       "                 07                  345297.65\n",
       "                 08                  537358.91\n",
       "                 09                  280759.06\n",
       "                 10                  222086.74\n",
       "                 11                  326152.97\n",
       "                 12                  320030.32\n",
       "                 13                  500498.17\n",
       "                 14                  450308.11\n",
       "                 15                  508401.62\n",
       "                 16                  286563.48\n",
       "                 17                  293625.06\n",
       "                 18                  259544.68\n",
       "                 19                  258320.98\n",
       "                 20                  358601.71\n",
       "                 21                  470941.20\n",
       "                 22                  466266.87\n",
       "                 23                  295806.19\n",
       "                 24                  243013.02\n",
       "                 25                  279835.97\n",
       "                 26                  311911.36\n",
       "                 27                  501468.33\n",
       "                 28                  384928.88\n",
       "                 29                  423778.49\n",
       "                 30                  233314.47\n",
       "                                       ...    \n",
       "12               02                  565165.30\n",
       "                 03                  428692.88\n",
       "                 04                  574291.43\n",
       "                 05                  637670.33\n",
       "                 06                  756963.41\n",
       "                 07                  855077.43\n",
       "                 08                  560669.31\n",
       "                 09                  563986.26\n",
       "                 10                  638619.76\n",
       "                 11                  589434.21\n",
       "                 12                  723750.35\n",
       "                 13                  686981.42\n",
       "                 14                 1011557.37\n",
       "                 15                  825172.85\n",
       "                 16                  824495.98\n",
       "                 17                  679035.44\n",
       "                 18                  661963.29\n",
       "                 19                  464979.83\n",
       "                 20                  591517.06\n",
       "                 21                  541856.62\n",
       "                 22                  259657.91\n",
       "                 23                  314294.31\n",
       "                 24                  289527.63\n",
       "                 25                   86609.55\n",
       "                 26                  178908.34\n",
       "                 27                  234611.39\n",
       "                 28                  390802.48\n",
       "                 29                  257332.67\n",
       "                 30                  291539.35\n",
       "                 31                   56109.52\n",
       "Name: arrecadacao, Length: 184, dtype: float64"
      ]
     },
     "execution_count": 72,
     "metadata": {},
     "output_type": "execute_result"
    }
   ],
   "source": [
    "# Agrupando os valores das multas por mes e depois por dia de cometimento e somando  para saber o total de arrecadações por dia \n",
    "# utilizando as colunas criadas anteriormente\n",
    "df_semestral.groupby(['mes_cometimento', 'dia_cometimento'])['arrecadacao'].sum()"
   ]
  },
  {
   "cell_type": "code",
   "execution_count": 73,
   "metadata": {},
   "outputs": [
    {
     "data": {
      "text/plain": [
       "184"
      ]
     },
     "execution_count": 73,
     "metadata": {},
     "output_type": "execute_result"
    }
   ],
   "source": [
    "# utilizando a função \"len()\" para saber o comprimento do resultado e criar uma variavel compativel em grafico\n",
    "len(df_semestral.groupby(['mes_cometimento', 'dia_cometimento'])['arrecadacao'].sum())"
   ]
  },
  {
   "cell_type": "code",
   "execution_count": 75,
   "metadata": {},
   "outputs": [],
   "source": [
    "# varivel com este \"len()\"\n",
    "valores = df_semestral.groupby(['mes_cometimento', 'dia_cometimento'])['arrecadacao'].sum()\n",
    "dinheiro = valores.values"
   ]
  },
  {
   "cell_type": "code",
   "execution_count": 76,
   "metadata": {},
   "outputs": [],
   "source": [
    "# Variavel compativel\n",
    "lista_dias = np.arange(1, 185, 1)"
   ]
  },
  {
   "cell_type": "code",
   "execution_count": 77,
   "metadata": {},
   "outputs": [
    {
     "data": {
      "text/plain": [
       "array([ 551807.40999999,  339883.44      ,  333576.41      ,\n",
       "        256878.38      ,  387668.37      ,  467376.99999999,\n",
       "        345297.65      ,  537358.90999999,  280759.06      ,\n",
       "        222086.74      ,  326152.97      ,  320030.32      ,\n",
       "        500498.16999999,  450308.10999999,  508401.61999999,\n",
       "        286563.48      ,  293625.06      ,  259544.68000001,\n",
       "        258320.98      ,  358601.70999999,  470941.19999998,\n",
       "        466266.86999999,  295806.19      ,  243013.02      ,\n",
       "        279835.97      ,  311911.36      ,  501468.32999999,\n",
       "        384928.87999999,  423778.49      ,  233314.47      ,\n",
       "        292056.65      ,  253718.79      ,  329996.9       ,\n",
       "        572938.21999998,  419752.09999999,  477814.99999999,\n",
       "        364287.65999999,  243551.42      ,  344319.31999999,\n",
       "        238412.54      ,  580182.63999998,  520099.33999998,\n",
       "        421457.88999999,  291934.9       ,  309802.89      ,\n",
       "        186965.33      ,  333791.94      ,  511556.54999999,\n",
       "        475365.15999998,  514026.85999998,  594836.15999998,\n",
       "        520120.87999997,  516322.87999998,  476127.37999998,\n",
       "        694534.31999998,  439186.39999998,  505849.29999998,\n",
       "        377014.62999999,  576281.27999998,  385068.65999999,\n",
       "        416050.22999999,  559166.50999998,  290955.18      ,\n",
       "        346243.43      ,  587461.91999998,  430011.36999999,\n",
       "        494479.04999999,  375220.87999999,  253833.94      ,\n",
       "        357828.77999999,  250620.46      ,  588417.05999998,\n",
       "        525012.14999998,  430928.71999999,  305249.09      ,\n",
       "        324189.04999999,  314215.79      ,  486845.79999998,\n",
       "        518194.62999998,  475365.15999998,  514026.85999998,\n",
       "        594542.68999998,  518849.98999997,  516127.64999998,\n",
       "        476127.37999998,  694110.68999998,  438795.91999998,\n",
       "        505979.45999998,  403055.00999999,  605011.44999999,\n",
       "        390428.11999999,  425731.48999999,  374409.47999999,\n",
       "        372697.06999999,  512776.34999997,  419317.74999999,\n",
       "        494148.29999998,  373454.66999999,  491479.36999997,\n",
       "        392043.92999999,  448198.98999998,  394538.79999999,\n",
       "        648655.23999998,  586476.41999997,  690442.65999997,\n",
       "        581578.18999999,  496270.57999998,  463861.12999998,\n",
       "        485455.04999998,  510602.19999999,  608544.20999998,\n",
       "        621028.12999997,  472610.45999997,  481057.71999998,\n",
       "        450245.17999999,  447146.43999999,  451593.57999999,\n",
       "        536189.53999998,  617928.15999997,  558597.36999997,\n",
       "        525817.15999998,  469745.02999998,  618064.96999998,\n",
       "        525445.53999998,  541075.41999997,  568906.63999997,\n",
       "        580242.52999999,  556925.06999998,  376407.03999999,\n",
       "        452238.66999999,  456895.79999999,  557519.99999998,\n",
       "        468760.19999998,  605602.59999998,  502887.50999998,\n",
       "        446062.87999998,  624942.64999998,  419113.30999998,\n",
       "        430367.34999999,  549946.53999997,  687169.19999998,\n",
       "        408747.50999999,  390477.87999999,  370543.52999999,\n",
       "        491498.51999998,  581188.56999998,  453218.46999999,\n",
       "        434487.30999999,  465703.33999998,  282262.6       ,\n",
       "        386460.91999999,  324164.31      ,  399164.79      ,\n",
       "        613616.47999997,  565165.29999998,  428692.87999999,\n",
       "        574291.42999998,  637670.32999998,  756963.40999999,\n",
       "        855077.42999999,  560669.30999997,  563986.25999998,\n",
       "        638619.75999999,  589434.20999998,  723750.34999999,\n",
       "        686981.41999999, 1011557.37      ,  825172.84999999,\n",
       "        824495.97999998,  679035.43999998,  661963.28999999,\n",
       "        464979.82999998,  591517.05999999,  541856.61999998,\n",
       "        259657.91      ,  314294.31      ,  289527.63      ,\n",
       "         86609.55      ,  178908.34      ,  234611.39      ,\n",
       "        390802.48      ,  257332.67      ,  291539.35      ,\n",
       "         56109.52      ])"
      ]
     },
     "execution_count": 77,
     "metadata": {},
     "output_type": "execute_result"
    }
   ],
   "source": [
    "# Visualização:\n",
    "dinheiro"
   ]
  },
  {
   "cell_type": "code",
   "execution_count": 78,
   "metadata": {},
   "outputs": [
    {
     "data": {
      "text/plain": [
       "array([  1,   2,   3,   4,   5,   6,   7,   8,   9,  10,  11,  12,  13,\n",
       "        14,  15,  16,  17,  18,  19,  20,  21,  22,  23,  24,  25,  26,\n",
       "        27,  28,  29,  30,  31,  32,  33,  34,  35,  36,  37,  38,  39,\n",
       "        40,  41,  42,  43,  44,  45,  46,  47,  48,  49,  50,  51,  52,\n",
       "        53,  54,  55,  56,  57,  58,  59,  60,  61,  62,  63,  64,  65,\n",
       "        66,  67,  68,  69,  70,  71,  72,  73,  74,  75,  76,  77,  78,\n",
       "        79,  80,  81,  82,  83,  84,  85,  86,  87,  88,  89,  90,  91,\n",
       "        92,  93,  94,  95,  96,  97,  98,  99, 100, 101, 102, 103, 104,\n",
       "       105, 106, 107, 108, 109, 110, 111, 112, 113, 114, 115, 116, 117,\n",
       "       118, 119, 120, 121, 122, 123, 124, 125, 126, 127, 128, 129, 130,\n",
       "       131, 132, 133, 134, 135, 136, 137, 138, 139, 140, 141, 142, 143,\n",
       "       144, 145, 146, 147, 148, 149, 150, 151, 152, 153, 154, 155, 156,\n",
       "       157, 158, 159, 160, 161, 162, 163, 164, 165, 166, 167, 168, 169,\n",
       "       170, 171, 172, 173, 174, 175, 176, 177, 178, 179, 180, 181, 182,\n",
       "       183, 184])"
      ]
     },
     "execution_count": 78,
     "metadata": {},
     "output_type": "execute_result"
    }
   ],
   "source": [
    "lista_dias"
   ]
  },
  {
   "cell_type": "code",
   "execution_count": 79,
   "metadata": {},
   "outputs": [
    {
     "data": {
      "image/png": "[encoded data removed]",
      "text/plain": [
       "<Figure size 864x576 with 1 Axes>"
      ]
     },
     "metadata": {},
     "output_type": "display_data"
    }
   ],
   "source": [
    "# plot em barras dos dias do semestre (lista_dias) x valores arrecadados por dia(dinheiro)\n",
    "plt.figure(figsize=(12, 8))\n",
    "plt.bar(lista_dias, dinheiro)\n",
    "plt.xlabel('Dias', fontsize=18)\n",
    "plt.ylabel('Número de Infrações', fontsize=18)\n",
    "plt.title('Infrações por dia durante o semestre', fontsize=22)\n",
    "\n",
    "plt.show()"
   ]
  },
  {
   "cell_type": "code",
   "execution_count": 80,
   "metadata": {},
   "outputs": [
    {
     "data": {
      "image/png": "[encoded data removed]",
      "text/plain": [
       "<Figure size 864x576 with 1 Axes>"
      ]
     },
     "metadata": {},
     "output_type": "display_data"
    }
   ],
   "source": [
    "# plot de dispersão dos dias do semestre (lista_dias) x valores arrecadados por dia(dinheiro)\n",
    "plt.figure(figsize=(12, 8))\n",
    "plt.scatter(lista_dias, dinheiro)\n",
    "plt.xlabel('Dias', fontsize=18)\n",
    "plt.ylabel('Número de Infrações', fontsize=18)\n",
    "plt.title('Infrações por dia durante o semestre', fontsize=22)\n",
    "\n",
    "plt.show()"
   ]
  },
  {
   "cell_type": "markdown",
   "metadata": {},
   "source": [
    "# ***Regressão Linear:***"
   ]
  },
  {
   "cell_type": "code",
   "execution_count": 81,
   "metadata": {},
   "outputs": [],
   "source": [
    "# Importando a biblioteca para regressão linear\n",
    "from sklearn.linear_model import LinearRegression\n",
    "\n",
    "# Importando função para divisão sem viés dos dados em treino e teste\n",
    "from sklearn.model_selection import train_test_split"
   ]
  },
  {
   "cell_type": "code",
   "execution_count": 82,
   "metadata": {},
   "outputs": [],
   "source": [
    "# Instanciando a classe linear regression\n",
    "modelo = LinearRegression()"
   ]
  },
  {
   "cell_type": "code",
   "execution_count": 83,
   "metadata": {},
   "outputs": [
    {
     "data": {
      "text/plain": [
       "sklearn.linear_model.base.LinearRegression"
      ]
     },
     "execution_count": 83,
     "metadata": {},
     "output_type": "execute_result"
    }
   ],
   "source": [
    "# Verificando o tipo da variavel\n",
    "type(modelo)"
   ]
  },
  {
   "cell_type": "markdown",
   "metadata": {},
   "source": [
    "# Equação referente ao modelo de Regressão Linear:\n",
    "# $$ {\\displaystyle y_{i}=\\alpha +\\beta \\,X_{i}+\\varepsilon _{i}} $$"
   ]
  },
  {
   "cell_type": "markdown",
   "metadata": {},
   "source": [
    "## $ y_{i} $  \n",
    "#### Variável explicada (dependente); representa o que o modelo tentará prever \n",
    "\n",
    "## $ {\\displaystyle \\alpha } $ \n",
    "#### alpha: É uma constante, que representa a interceptação da reta com o eixo vertical;\n",
    "\n",
    "## $ {\\displaystyle \\beta } $ \n",
    "#### beta: Representa a inclinação (coeficiente angular) em relação à variável explicativa; \n",
    "\n",
    "## $ {\\displaystyle X_{i}} X_{i} $\n",
    "#### Variável explicativa (independente); "
   ]
  },
  {
   "cell_type": "markdown",
   "metadata": {},
   "source": [
    "# ***Notação utilizada para este projeto:***\n",
    "## ***Y - Variável dependente (Arrecadação em multas por dia)***\n",
    "## ***X - Variável Independente (dias do semestre)***"
   ]
  },
  {
   "cell_type": "code",
   "execution_count": 91,
   "metadata": {},
   "outputs": [],
   "source": [
    "# o algoritmo necessita que o valor seja informado no formato lista de listas por isso:\n",
    "# Transformando a variavel dos dias em uma variavel no formato que o algoritmo necessita\n",
    "lista_dias = np.array(lista_dias).reshape(-1, 1)"
   ]
  },
  {
   "cell_type": "code",
   "execution_count": 92,
   "metadata": {},
   "outputs": [],
   "source": [
    "# Instanciando as variaveis de maneira que os dados sem divididos sem interferencia humana\n",
    "X_treino, X_teste, Y_treino, Y_teste = train_test_split(lista_dias, dinheiro, test_size= 0.30, random_state = 5)"
   ]
  },
  {
   "cell_type": "code",
   "execution_count": 93,
   "metadata": {},
   "outputs": [
    {
     "name": "stdout",
     "output_type": "stream",
     "text": [
      "(128, 1) (56, 1) (128,) (56,)\n"
     ]
    }
   ],
   "source": [
    "# Verificando os tamanhos:\n",
    "print(X_treino.shape, X_teste.shape, Y_treino.shape, Y_teste.shape)"
   ]
  },
  {
   "cell_type": "code",
   "execution_count": 94,
   "metadata": {},
   "outputs": [
    {
     "data": {
      "text/plain": [
       "LinearRegression(copy_X=True, fit_intercept=True, n_jobs=1, normalize=False)"
      ]
     },
     "execution_count": 94,
     "metadata": {},
     "output_type": "execute_result"
    }
   ],
   "source": [
    "modelo.fit(X_treino, Y_treino)"
   ]
  },
  {
   "cell_type": "code",
   "execution_count": 95,
   "metadata": {},
   "outputs": [],
   "source": [
    "# estabelecendo as previsões de treino(para visualização) e teste\n",
    "prev_treino = modelo.predict(X_treino)\n",
    "prev_teste = modelo.predict(X_teste)"
   ]
  },
  {
   "cell_type": "code",
   "execution_count": 98,
   "metadata": {},
   "outputs": [
    {
     "data": {
      "image/png": "[encoded data removed]",
      "text/plain": [
       "<Figure size 864x576 with 1 Axes>"
      ]
     },
     "metadata": {},
     "output_type": "display_data"
    }
   ],
   "source": [
    "# Plot residual para comparação entre as variaveis treino e teste\n",
    "plt.figure(figsize=(12, 8))\n",
    "plt.scatter(modelo.predict(X_treino), modelo.predict(X_treino) - Y_treino, c='b', s = 40, alpha = 0.5)\n",
    "plt.scatter(modelo.predict(X_teste), modelo.predict(X_teste) - Y_teste, c = 'g', s = 40, alpha = 0.5)\n",
    "plt.hlines( y = 0, xmin = 0, xmax = 500000)\n",
    "plt.ylabel('Residuo', fontsize=18)\n",
    "plt.title(\"Plotagem Residual  - Treino(Azul), Teste(Verde))\",fontsize=20)\n",
    "plt.show()"
   ]
  },
  {
   "cell_type": "markdown",
   "metadata": {},
   "source": [
    "### *Visualização do Modelo de Regressão Linear dentro do escatterplot anterior:*"
   ]
  },
  {
   "cell_type": "code",
   "execution_count": 99,
   "metadata": {},
   "outputs": [
    {
     "data": {
      "image/png": "[encoded data removed]",
      "text/plain": [
       "<Figure size 864x576 with 1 Axes>"
      ]
     },
     "metadata": {},
     "output_type": "display_data"
    }
   ],
   "source": [
    "plt.figure(figsize=(12, 8))\n",
    "plt.scatter(lista_dias, dinheiro, color = 'black')\n",
    "plt.plot(lista_dias, modelo.predict(lista_dias), color = 'blue', linewidth = 3)\n",
    "plt.xlabel('Dias', fontsize=18)\n",
    "plt.ylabel('Arrecadação de Infrações', fontsize=18)\n",
    "plt.title('Infrações por dia durante o semestre', fontsize=22)\n",
    "\n",
    "plt.show()"
   ]
  },
  {
   "cell_type": "code",
   "execution_count": 100,
   "metadata": {},
   "outputs": [
    {
     "data": {
      "text/plain": [
       "array([540257.31990858])"
      ]
     },
     "execution_count": 100,
     "metadata": {},
     "output_type": "execute_result"
    }
   ],
   "source": [
    "# Teste final para o modelo de regressão linear:\n",
    "modelo.predict(190)"
   ]
  },
  {
   "cell_type": "markdown",
   "metadata": {},
   "source": [
    "### ***540257 reais e 31 centavos serão arrecadados no dia 190 (6 de janeiro de 2019) segundo o modelo construido***"
   ]
  },
  {
   "cell_type": "code",
   "execution_count": 101,
   "metadata": {},
   "outputs": [
    {
     "data": {
      "text/html": [
       "<div>\n",
       "<style scoped>\n",
       "    .dataframe tbody tr th:only-of-type {\n",
       "        vertical-align: middle;\n",
       "    }\n",
       "\n",
       "    .dataframe tbody tr th {\n",
       "        vertical-align: top;\n",
       "    }\n",
       "\n",
       "    .dataframe thead th {\n",
       "        text-align: right;\n",
       "    }\n",
       "</style>\n",
       "<table border=\"1\" class=\"dataframe\">\n",
       "  <thead>\n",
       "    <tr style=\"text-align: right;\">\n",
       "      <th></th>\n",
       "      <th>codigo_infracao</th>\n",
       "      <th>tipo_infrator</th>\n",
       "      <th>tipo_veiculo</th>\n",
       "      <th>data_cometimento</th>\n",
       "      <th>hora_cometimento</th>\n",
       "      <th>dia_cometimento</th>\n",
       "      <th>mes_cometimento</th>\n",
       "      <th>gravidade</th>\n",
       "      <th>arrecadacao</th>\n",
       "    </tr>\n",
       "  </thead>\n",
       "  <tbody>\n",
       "    <tr>\n",
       "      <th>0</th>\n",
       "      <td>7455-0</td>\n",
       "      <td>condutor</td>\n",
       "      <td>automovel</td>\n",
       "      <td>01/07/2018</td>\n",
       "      <td>00:01</td>\n",
       "      <td>01</td>\n",
       "      <td>07</td>\n",
       "      <td>media</td>\n",
       "      <td>130.16</td>\n",
       "    </tr>\n",
       "    <tr>\n",
       "      <th>1</th>\n",
       "      <td>7455-0</td>\n",
       "      <td>condutor</td>\n",
       "      <td>automovel</td>\n",
       "      <td>01/07/2018</td>\n",
       "      <td>00:02</td>\n",
       "      <td>01</td>\n",
       "      <td>07</td>\n",
       "      <td>media</td>\n",
       "      <td>130.16</td>\n",
       "    </tr>\n",
       "    <tr>\n",
       "      <th>2</th>\n",
       "      <td>6769-0</td>\n",
       "      <td>proprietario</td>\n",
       "      <td>automovel</td>\n",
       "      <td>01/07/2018</td>\n",
       "      <td>00:02</td>\n",
       "      <td>01</td>\n",
       "      <td>07</td>\n",
       "      <td>media</td>\n",
       "      <td>130.16</td>\n",
       "    </tr>\n",
       "    <tr>\n",
       "      <th>3</th>\n",
       "      <td>7285-0</td>\n",
       "      <td>condutor</td>\n",
       "      <td>automovel</td>\n",
       "      <td>01/07/2018</td>\n",
       "      <td>00:02</td>\n",
       "      <td>01</td>\n",
       "      <td>07</td>\n",
       "      <td>media</td>\n",
       "      <td>130.16</td>\n",
       "    </tr>\n",
       "    <tr>\n",
       "      <th>4</th>\n",
       "      <td>7579-0</td>\n",
       "      <td>condutor</td>\n",
       "      <td>automovel</td>\n",
       "      <td>01/07/2018</td>\n",
       "      <td>00:03</td>\n",
       "      <td>01</td>\n",
       "      <td>07</td>\n",
       "      <td>auto_suspensiva</td>\n",
       "      <td>2934.70</td>\n",
       "    </tr>\n",
       "    <tr>\n",
       "      <th>5</th>\n",
       "      <td>7455-0</td>\n",
       "      <td>condutor</td>\n",
       "      <td>caminhoneta</td>\n",
       "      <td>01/07/2018</td>\n",
       "      <td>00:06</td>\n",
       "      <td>01</td>\n",
       "      <td>07</td>\n",
       "      <td>media</td>\n",
       "      <td>130.16</td>\n",
       "    </tr>\n",
       "    <tr>\n",
       "      <th>7</th>\n",
       "      <td>7463-0</td>\n",
       "      <td>condutor</td>\n",
       "      <td>automovel</td>\n",
       "      <td>01/07/2018</td>\n",
       "      <td>00:09</td>\n",
       "      <td>01</td>\n",
       "      <td>07</td>\n",
       "      <td>grave</td>\n",
       "      <td>195.23</td>\n",
       "    </tr>\n",
       "    <tr>\n",
       "      <th>8</th>\n",
       "      <td>7455-0</td>\n",
       "      <td>condutor</td>\n",
       "      <td>automovel</td>\n",
       "      <td>01/07/2018</td>\n",
       "      <td>00:09</td>\n",
       "      <td>01</td>\n",
       "      <td>07</td>\n",
       "      <td>media</td>\n",
       "      <td>130.16</td>\n",
       "    </tr>\n",
       "    <tr>\n",
       "      <th>9</th>\n",
       "      <td>7285-0</td>\n",
       "      <td>condutor</td>\n",
       "      <td>automovel</td>\n",
       "      <td>01/07/2018</td>\n",
       "      <td>00:09</td>\n",
       "      <td>01</td>\n",
       "      <td>07</td>\n",
       "      <td>media</td>\n",
       "      <td>130.16</td>\n",
       "    </tr>\n",
       "    <tr>\n",
       "      <th>10</th>\n",
       "      <td>7463-0</td>\n",
       "      <td>condutor</td>\n",
       "      <td>automovel</td>\n",
       "      <td>01/07/2018</td>\n",
       "      <td>00:10</td>\n",
       "      <td>01</td>\n",
       "      <td>07</td>\n",
       "      <td>grave</td>\n",
       "      <td>195.23</td>\n",
       "    </tr>\n",
       "  </tbody>\n",
       "</table>\n",
       "</div>"
      ],
      "text/plain": [
       "   codigo_infracao tipo_infrator tipo_veiculo data_cometimento  \\\n",
       "0           7455-0      condutor    automovel       01/07/2018   \n",
       "1           7455-0      condutor    automovel       01/07/2018   \n",
       "2           6769-0  proprietario    automovel       01/07/2018   \n",
       "3           7285-0      condutor    automovel       01/07/2018   \n",
       "4           7579-0      condutor    automovel       01/07/2018   \n",
       "5           7455-0      condutor  caminhoneta       01/07/2018   \n",
       "7           7463-0      condutor    automovel       01/07/2018   \n",
       "8           7455-0      condutor    automovel       01/07/2018   \n",
       "9           7285-0      condutor    automovel       01/07/2018   \n",
       "10          7463-0      condutor    automovel       01/07/2018   \n",
       "\n",
       "   hora_cometimento dia_cometimento mes_cometimento        gravidade  \\\n",
       "0             00:01              01              07            media   \n",
       "1             00:02              01              07            media   \n",
       "2             00:02              01              07            media   \n",
       "3             00:02              01              07            media   \n",
       "4             00:03              01              07  auto_suspensiva   \n",
       "5             00:06              01              07            media   \n",
       "7             00:09              01              07            grave   \n",
       "8             00:09              01              07            media   \n",
       "9             00:09              01              07            media   \n",
       "10            00:10              01              07            grave   \n",
       "\n",
       "    arrecadacao  \n",
       "0        130.16  \n",
       "1        130.16  \n",
       "2        130.16  \n",
       "3        130.16  \n",
       "4       2934.70  \n",
       "5        130.16  \n",
       "7        195.23  \n",
       "8        130.16  \n",
       "9        130.16  \n",
       "10       195.23  "
      ]
     },
     "execution_count": 101,
     "metadata": {},
     "output_type": "execute_result"
    }
   ],
   "source": [
    "# Visualização do DataSet final:\n",
    "df_semestral.head(10)"
   ]
  },
  {
   "cell_type": "code",
   "execution_count": 102,
   "metadata": {},
   "outputs": [],
   "source": [
    "# salvando o novo dataframe em um CSV:\n",
    "df_semestral.to_csv('df_semestral.csv')"
   ]
  }
 ],
 "metadata": {
  "kernelspec": {
   "display_name": "Python 3",
   "language": "python",
   "name": "python3"
  },
  "language_info": {
   "codemirror_mode": {
    "name": "ipython",
    "version": 3
   },
   "file_extension": ".py",
   "mimetype": "text/x-python",
   "name": "python",
   "nbconvert_exporter": "python",
   "pygments_lexer": "ipython3",
   "version": "3.6.5"
  }
 },
 "nbformat": 4,
 "nbformat_minor": 2
}
